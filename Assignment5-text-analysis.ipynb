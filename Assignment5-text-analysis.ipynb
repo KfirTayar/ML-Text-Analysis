{
 "cells": [
  {
   "cell_type": "markdown",
   "metadata": {},
   "source": [
    "# Assignment 5 - Text Analysis\n",
    "An explanation this assignment could be found in the .pdf explanation document"
   ]
  },
  {
   "cell_type": "markdown",
   "metadata": {},
   "source": [
    "\n",
    "## Materials to review for this assignment\n",
    "<h4>From Moodle:</h4> \n",
    "<h5><u>Review the notebooks regarding the following python topics</u>:</h5>\n",
    "<div class=\"alert alert-info\">\n",
    "&#x2714; <b>Working with strings</b> (tutorial notebook)<br/>\n",
    "&#x2714; <b>Text Analysis</b> (tutorial notebook)<br/>\n",
    "&#x2714; <b>Hebrew text analysis tools (tokenizer, wordnet)</b> (moodle example)<br/>\n",
    "&#x2714; <b>(brief review) All previous notebooks</b><br/>\n",
    "</div> \n",
    "<h5><u>Review the presentations regarding the following topics</u>:</h5>\n",
    "<div class=\"alert alert-info\">\n",
    "&#x2714; <b>Text Analysis</b> (lecture presentation)<br/>\n",
    "&#x2714; <b>(brief review) All other presentations</b><br/>\n",
    "</div>"
   ]
  },
  {
   "cell_type": "markdown",
   "metadata": {},
   "source": [
    "## Preceding Step - import modules (packages)\n",
    "This step is necessary in order to use external modules (packages). <br/>"
   ]
  },
  {
   "cell_type": "code",
   "execution_count": 1,
   "metadata": {},
   "outputs": [],
   "source": [
    "# --------------------------------------\n",
    "import pandas as pd\n",
    "import numpy as np\n",
    "# --------------------------------------\n",
    "\n",
    "\n",
    "# --------------------------------------\n",
    "# ------------- visualizations:\n",
    "import seaborn as sns\n",
    "import matplotlib.pyplot as plt\n",
    "from matplotlib.colors import ListedColormap\n",
    "# --------------------------------------\n",
    "\n",
    "\n",
    "# ---------------------------------------\n",
    "import sklearn\n",
    "from sklearn import preprocessing, metrics, pipeline, model_selection, feature_extraction \n",
    "from sklearn import naive_bayes, linear_model, svm, neural_network, neighbors, tree\n",
    "from sklearn import decomposition, cluster\n",
    "\n",
    "from sklearn.model_selection import train_test_split, cross_val_score, GridSearchCV \n",
    "from sklearn.pipeline import Pipeline\n",
    "from sklearn.metrics import accuracy_score, confusion_matrix\n",
    "from sklearn.metrics import precision_score, recall_score, f1_score\n",
    "from sklearn.metrics import mean_squared_error, r2_score, silhouette_score\n",
    "from sklearn.preprocessing import MinMaxScaler, StandardScaler, LabelEncoder\n",
    "\n",
    "from sklearn.svm import LinearSVC\n",
    "from sklearn.neural_network import MLPClassifier\n",
    "from sklearn.linear_model import Perceptron, SGDClassifier\n",
    "from sklearn.decomposition import PCA\n",
    "from sklearn.cluster import KMeans\n",
    "from sklearn.naive_bayes import MultinomialNB, GaussianNB\n",
    "from sklearn.neighbors import KNeighborsClassifier\n",
    "from sklearn.tree import DecisionTreeClassifier\n",
    "# ---------------------------------------\n",
    "\n",
    "\n",
    "# ----------------- output and visualizations: \n",
    "import warnings\n",
    "from sklearn.exceptions import ConvergenceWarning\n",
    "warnings.simplefilter(\"ignore\")\n",
    "warnings.simplefilter(action='ignore', category=FutureWarning)\n",
    "warnings.simplefilter(\"ignore\", category=ConvergenceWarning)\n",
    "# show several prints in one cell. This will allow us to condence every trick in one cell.\n",
    "from IPython.core.interactiveshell import InteractiveShell\n",
    "InteractiveShell.ast_node_interactivity = \"all\"\n",
    "%matplotlib inline\n",
    "pd.pandas.set_option('display.max_columns', None)\n",
    "pd.set_option('display.float_format', lambda x: '%.3f' % x)\n",
    "# ---------------------------------------"
   ]
  },
  {
   "cell_type": "markdown",
   "metadata": {},
   "source": [
    "### Text analysis and String manipulation imports:"
   ]
  },
  {
   "cell_type": "code",
   "execution_count": 2,
   "metadata": {},
   "outputs": [],
   "source": [
    "# --------------------------------------\n",
    "# --------- Text analysis and Hebrew text analysis imports:\n",
    "# vectorizers:\n",
    "from sklearn.feature_extraction import text\n",
    "from sklearn.feature_extraction.text import CountVectorizer, TfidfVectorizer\n",
    "\n",
    "# regular expressions:\n",
    "import re\n",
    "# --------------------------------------"
   ]
  },
  {
   "cell_type": "markdown",
   "metadata": {},
   "source": [
    "### (optional) Hebrew text analysis - WordNet (for Hebrew)\n",
    "Note: the WordNet is not a must"
   ]
  },
  {
   "cell_type": "markdown",
   "metadata": {},
   "source": [
    "#### (optional) Only if you didn't install Wordnet (for Hebrew) use:"
   ]
  },
  {
   "cell_type": "code",
   "execution_count": 3,
   "metadata": {},
   "outputs": [],
   "source": [
    "# word net installation:\n",
    "\n",
    "# unmark if you want to use and need to install\n",
    "# !pip install wn\n",
    "# !python -m wn download omw-he:1.4"
   ]
  },
  {
   "cell_type": "code",
   "execution_count": 4,
   "metadata": {},
   "outputs": [],
   "source": [
    "# word net import:\n",
    "\n",
    "# unmark if you want to use:\n",
    "# import wn"
   ]
  },
  {
   "cell_type": "markdown",
   "metadata": {},
   "source": [
    "### (optional) Hebrew text analysis - hebrew_tokenizer (Tokenizer for Hebrew)\n",
    "Note: the hebrew_tokenizer is not a must"
   ]
  },
  {
   "cell_type": "markdown",
   "metadata": {},
   "source": [
    "#### (optional) Only if you didn't install hebrew_tokenizer use:"
   ]
  },
  {
   "cell_type": "code",
   "execution_count": 5,
   "metadata": {},
   "outputs": [],
   "source": [
    "# Hebrew tokenizer installation:\n",
    "\n",
    "# unmark if you want to use and need to install:\n",
    "# !pip install hebrew_tokenizer"
   ]
  },
  {
   "cell_type": "code",
   "execution_count": 6,
   "metadata": {},
   "outputs": [],
   "source": [
    "# Hebrew tokenizer import:\n",
    "\n",
    "# unmark if you want to use:\n",
    "#import hebrew_tokenizer as ht"
   ]
  },
  {
   "cell_type": "markdown",
   "metadata": {},
   "source": [
    "### Reading input files\n",
    "Reading input files for train annotated corpus (raw text data) corpus and for the test corpus"
   ]
  },
  {
   "cell_type": "code",
   "execution_count": 7,
   "metadata": {},
   "outputs": [],
   "source": [
    "train_filename = 'annotated_corpus_for_train.csv'\n",
    "test_filename  = 'corpus_for_test.csv'\n",
    "df_train = pd.read_csv(train_filename, index_col=None, encoding='utf-8')\n",
    "df_test  = pd.read_csv(test_filename, index_col=None, encoding='utf-8')"
   ]
  },
  {
   "cell_type": "code",
   "execution_count": 8,
   "metadata": {},
   "outputs": [
    {
     "data": {
      "text/html": [
       "<div>\n",
       "<style scoped>\n",
       "    .dataframe tbody tr th:only-of-type {\n",
       "        vertical-align: middle;\n",
       "    }\n",
       "\n",
       "    .dataframe tbody tr th {\n",
       "        vertical-align: top;\n",
       "    }\n",
       "\n",
       "    .dataframe thead th {\n",
       "        text-align: right;\n",
       "    }\n",
       "</style>\n",
       "<table border=\"1\" class=\"dataframe\">\n",
       "  <thead>\n",
       "    <tr style=\"text-align: right;\">\n",
       "      <th></th>\n",
       "      <th>story</th>\n",
       "      <th>gender</th>\n",
       "    </tr>\n",
       "  </thead>\n",
       "  <tbody>\n",
       "    <tr>\n",
       "      <th>0</th>\n",
       "      <td>כשחבר הזמין אותי לחול, לא באמת חשבתי שזה יקרה,...</td>\n",
       "      <td>m</td>\n",
       "    </tr>\n",
       "    <tr>\n",
       "      <th>1</th>\n",
       "      <td>לפני שהתגייסתי לצבא עשיתי כל מני מיונים ליחידו...</td>\n",
       "      <td>m</td>\n",
       "    </tr>\n",
       "    <tr>\n",
       "      <th>2</th>\n",
       "      <td>מאז שהתחילו הלימודים חלומו של כל סטודנט זה הפנ...</td>\n",
       "      <td>f</td>\n",
       "    </tr>\n",
       "    <tr>\n",
       "      <th>3</th>\n",
       "      <td>כשהייתי ילד, מטוסים היה הדבר שהכי ריתק אותי. ב...</td>\n",
       "      <td>m</td>\n",
       "    </tr>\n",
       "    <tr>\n",
       "      <th>4</th>\n",
       "      <td>‏הייתי מדריכה בכפר נוער ומתאם הכפר היינו צריכי...</td>\n",
       "      <td>f</td>\n",
       "    </tr>\n",
       "  </tbody>\n",
       "</table>\n",
       "</div>"
      ],
      "text/plain": [
       "                                               story gender\n",
       "0  כשחבר הזמין אותי לחול, לא באמת חשבתי שזה יקרה,...      m\n",
       "1  לפני שהתגייסתי לצבא עשיתי כל מני מיונים ליחידו...      m\n",
       "2  מאז שהתחילו הלימודים חלומו של כל סטודנט זה הפנ...      f\n",
       "3  כשהייתי ילד, מטוסים היה הדבר שהכי ריתק אותי. ב...      m\n",
       "4  ‏הייתי מדריכה בכפר נוער ומתאם הכפר היינו צריכי...      f"
      ]
     },
     "execution_count": 8,
     "metadata": {},
     "output_type": "execute_result"
    },
    {
     "data": {
      "text/plain": [
       "(753, 2)"
      ]
     },
     "execution_count": 8,
     "metadata": {},
     "output_type": "execute_result"
    }
   ],
   "source": [
    "df_train.head(5)\n",
    "df_train.shape"
   ]
  },
  {
   "cell_type": "code",
   "execution_count": 9,
   "metadata": {},
   "outputs": [
    {
     "data": {
      "text/html": [
       "<div>\n",
       "<style scoped>\n",
       "    .dataframe tbody tr th:only-of-type {\n",
       "        vertical-align: middle;\n",
       "    }\n",
       "\n",
       "    .dataframe tbody tr th {\n",
       "        vertical-align: top;\n",
       "    }\n",
       "\n",
       "    .dataframe thead th {\n",
       "        text-align: right;\n",
       "    }\n",
       "</style>\n",
       "<table border=\"1\" class=\"dataframe\">\n",
       "  <thead>\n",
       "    <tr style=\"text-align: right;\">\n",
       "      <th></th>\n",
       "      <th>test_example_id</th>\n",
       "      <th>story</th>\n",
       "    </tr>\n",
       "  </thead>\n",
       "  <tbody>\n",
       "    <tr>\n",
       "      <th>0</th>\n",
       "      <td>0</td>\n",
       "      <td>כל קיץ אני והמשפחה נוסעים לארצות הברית לוס אנג...</td>\n",
       "    </tr>\n",
       "    <tr>\n",
       "      <th>1</th>\n",
       "      <td>1</td>\n",
       "      <td>הגעתי לשירות המדינה אחרי שנתיים כפעיל בתנועת \"...</td>\n",
       "    </tr>\n",
       "    <tr>\n",
       "      <th>2</th>\n",
       "      <td>2</td>\n",
       "      <td>אחת האהבות הגדולות שלי אלו הכלבים שלי ושל אישת...</td>\n",
       "    </tr>\n",
       "    <tr>\n",
       "      <th>3</th>\n",
       "      <td>3</td>\n",
       "      <td>רגע הגיוס לצבא היה הרגע הכי משמעותי עבורי, אני...</td>\n",
       "    </tr>\n",
       "    <tr>\n",
       "      <th>4</th>\n",
       "      <td>4</td>\n",
       "      <td>אני הגעתי לברזיל ישר מקולומביה וגם אני עשיתי ע...</td>\n",
       "    </tr>\n",
       "  </tbody>\n",
       "</table>\n",
       "</div>"
      ],
      "text/plain": [
       "   test_example_id                                              story\n",
       "0                0  כל קיץ אני והמשפחה נוסעים לארצות הברית לוס אנג...\n",
       "1                1  הגעתי לשירות המדינה אחרי שנתיים כפעיל בתנועת \"...\n",
       "2                2  אחת האהבות הגדולות שלי אלו הכלבים שלי ושל אישת...\n",
       "3                3  רגע הגיוס לצבא היה הרגע הכי משמעותי עבורי, אני...\n",
       "4                4  אני הגעתי לברזיל ישר מקולומביה וגם אני עשיתי ע..."
      ]
     },
     "execution_count": 9,
     "metadata": {},
     "output_type": "execute_result"
    },
    {
     "data": {
      "text/plain": [
       "(323, 2)"
      ]
     },
     "execution_count": 9,
     "metadata": {},
     "output_type": "execute_result"
    }
   ],
   "source": [
    "df_test.head(5)\n",
    "df_test.shape"
   ]
  },
  {
   "cell_type": "markdown",
   "metadata": {},
   "source": [
    "### Your implementation:\n",
    "Write your code solution in the following code-cells"
   ]
  },
  {
   "cell_type": "code",
   "execution_count": 10,
   "metadata": {},
   "outputs": [
    {
     "data": {
      "text/html": [
       "<div>\n",
       "<style scoped>\n",
       "    .dataframe tbody tr th:only-of-type {\n",
       "        vertical-align: middle;\n",
       "    }\n",
       "\n",
       "    .dataframe tbody tr th {\n",
       "        vertical-align: top;\n",
       "    }\n",
       "\n",
       "    .dataframe thead th {\n",
       "        text-align: right;\n",
       "    }\n",
       "</style>\n",
       "<table border=\"1\" class=\"dataframe\">\n",
       "  <thead>\n",
       "    <tr style=\"text-align: right;\">\n",
       "      <th></th>\n",
       "      <th>story</th>\n",
       "      <th>gender</th>\n",
       "    </tr>\n",
       "  </thead>\n",
       "  <tbody>\n",
       "    <tr>\n",
       "      <th>count</th>\n",
       "      <td>753</td>\n",
       "      <td>753</td>\n",
       "    </tr>\n",
       "    <tr>\n",
       "      <th>unique</th>\n",
       "      <td>749</td>\n",
       "      <td>2</td>\n",
       "    </tr>\n",
       "    <tr>\n",
       "      <th>top</th>\n",
       "      <td>בשנה האחרונה נדבקתי וחליתי בנגיף הקורונה. עד ה...</td>\n",
       "      <td>m</td>\n",
       "    </tr>\n",
       "    <tr>\n",
       "      <th>freq</th>\n",
       "      <td>2</td>\n",
       "      <td>575</td>\n",
       "    </tr>\n",
       "  </tbody>\n",
       "</table>\n",
       "</div>"
      ],
      "text/plain": [
       "                                                    story gender\n",
       "count                                                 753    753\n",
       "unique                                                749      2\n",
       "top     בשנה האחרונה נדבקתי וחליתי בנגיף הקורונה. עד ה...      m\n",
       "freq                                                    2    575"
      ]
     },
     "execution_count": 10,
     "metadata": {},
     "output_type": "execute_result"
    }
   ],
   "source": [
    "df_train.describe()"
   ]
  },
  {
   "cell_type": "markdown",
   "metadata": {},
   "source": [
    "# Data Pre-Processing"
   ]
  },
  {
   "cell_type": "markdown",
   "metadata": {},
   "source": [
    "\n",
    "## Tokenization"
   ]
  },
  {
   "cell_type": "code",
   "execution_count": 11,
   "metadata": {},
   "outputs": [],
   "source": [
    "# Function that clean the story and split him to tokens\n",
    "def makeTokenization(story):\n",
    "    \n",
    "    story = story.strip(',:;{}*().- ')\n",
    "    story = story.replace(\"'\", \"\").replace(\".\", \"\").replace(\"\\\\\", \"\").replace(\",\", \"\").replace(\";\", \"\").replace(\"!\",\"\").replace(\"?\",\"\").replace(\"(\",\"\").replace(\")\",\"\").replace(\"*\", \"\").replace(\"/\", \"\")\n",
    "    story = re.sub(r'\\d+', '', story)\n",
    "    story = re.sub(r'[a-z]+ | [A-Z]+', '', story)\n",
    "    story = story.split(' ')\n",
    "        \n",
    "    return story"
   ]
  },
  {
   "cell_type": "code",
   "execution_count": 12,
   "metadata": {},
   "outputs": [
    {
     "name": "stdout",
     "output_type": "stream",
     "text": [
      "['טסט', 'טסט', 'טסט']\n"
     ]
    }
   ],
   "source": [
    "# Testing the tokenization function\n",
    "a = makeTokenization(\"טסט טסט טסט123123 ;;;\")\n",
    "print(a)"
   ]
  },
  {
   "cell_type": "code",
   "execution_count": 13,
   "metadata": {},
   "outputs": [],
   "source": [
    "# Make the gender col to numeric values\n",
    "df_train['gender'] = df_train['gender'].map({'f':0, 'm':1})"
   ]
  },
  {
   "cell_type": "markdown",
   "metadata": {},
   "source": [
    "# Vectorization"
   ]
  },
  {
   "cell_type": "code",
   "execution_count": 14,
   "metadata": {},
   "outputs": [],
   "source": [
    "vec = TfidfVectorizer(tokenizer=makeTokenization, max_features=3000, min_df=2, max_df=0.95, ngram_range=(1,2))\n",
    "X_train = vec.fit_transform(df_train.story)\n",
    "y_train = df_train.gender\n",
    "\n",
    "# Normalize\n",
    "X_train = preprocessing.normalize(X_train, norm='l2')"
   ]
  },
  {
   "cell_type": "markdown",
   "metadata": {},
   "source": [
    "## Testset vectorize"
   ]
  },
  {
   "cell_type": "code",
   "execution_count": 15,
   "metadata": {},
   "outputs": [],
   "source": [
    "X_test = vec.transform(df_test.story)\n",
    "\n",
    "# Normalize\n",
    "X_test = preprocessing.normalize(X_test, norm='l2')"
   ]
  },
  {
   "cell_type": "markdown",
   "metadata": {},
   "source": [
    "# Model Selection & Model Evaluation"
   ]
  },
  {
   "cell_type": "markdown",
   "metadata": {},
   "source": [
    "## Cross Validation & GridSearchCV"
   ]
  },
  {
   "cell_type": "code",
   "execution_count": 16,
   "metadata": {},
   "outputs": [],
   "source": [
    "# Function that present y_perd array in coloring visualize\n",
    "def yPredValues(arr):\n",
    "    arr_li = arr.tolist()\n",
    "    color_arr = [('\\033[95m' + ' f ' + '\\033[0m') if i==0 else (('\\033[92m' + ' m ' + '\\033[0m') if i==1 else i) for i in arr]\n",
    "    color_string = \"\".join(color_arr)\n",
    "    return color_string"
   ]
  },
  {
   "cell_type": "code",
   "execution_count": 17,
   "metadata": {},
   "outputs": [],
   "source": [
    "def train_model(model, X_train, y_train):\n",
    "    if(model == 'KNN'):\n",
    "        clf = KNeighborsClassifier()\n",
    "        clf.fit(X_train, y_train)\n",
    "        \n",
    "    if(model == 'DT'):\n",
    "        clf = DecisionTreeClassifier()\n",
    "        clf.fit(X_train, y_train)\n",
    "        \n",
    "    if(model == 'MLP'):\n",
    "        clf = MLPClassifier()\n",
    "        clf.fit(X_train, y_train)\n",
    "\n",
    "    if(model == 'LinearSVC'):\n",
    "        clf = LinearSVC()\n",
    "        clf.fit(X_train, y_train)\n",
    "        \n",
    "    if(model == 'Perceptron'):\n",
    "        clf = Perceptron()\n",
    "        clf.fit(X_train, y_train)\n",
    "        \n",
    "    if(model == 'SVM'):\n",
    "        clf = SGDClassifier()\n",
    "        clf.fit(X_train, y_train)\n",
    "        \n",
    "    return clf"
   ]
  },
  {
   "cell_type": "code",
   "execution_count": 18,
   "metadata": {},
   "outputs": [],
   "source": [
    "def grid_search_model(model, clf, X_train, y_train):\n",
    "    \n",
    "    if(model == 'KNN'):\n",
    "        parameters = {'metric':['euclidean', 'manhattan', 'minkowski'],\n",
    "                      'n_neighbors':[11, 20, 25, 30],\n",
    "                      'weights':['uniform', 'distance']}\n",
    "        \n",
    "    if(model == 'DT'):\n",
    "        parameters = {'criterion':['gini', 'entropy'],\n",
    "                      'max_depth':[ 4, 5, 6, 7, 8],\n",
    "                      'min_samples_leaf':[ 5, 6, 7, 8, 9], \n",
    "                      'min_samples_split':[10, 15, 20, 25]}\n",
    "        \n",
    "    if(model == 'MLP'):\n",
    "            parameters = {'alpha':[0.0001, 0.0013, 0.0133], \n",
    "                          'solver':['lbfgs', 'sgd', 'adam']}\n",
    "    \n",
    "    if(model == 'LinearSVC'):\n",
    "            parameters = {'penalty':['l2', 'l1'],\n",
    "                          'loss':['hinge', 'squared_hinge']}\n",
    "    \n",
    "    if(model == 'Perceptron'):\n",
    "            parameters = {'penalty':['l2', 'l1'],\n",
    "                          'alpha':[0.0001, 0.0002, 0.0003]}\n",
    "        \n",
    "    if(model == 'SVM'):\n",
    "        parameters = {'loss':['hinge', 'log', 'squared_hinge', 'perceptron'], \n",
    "                      'penalty':['l2', 'l1'], \n",
    "                      'alpha':[0.0001, 0.002, 0.0003]}\n",
    "    \n",
    "    GS_model = GridSearchCV(estimator=clf, param_grid=parameters, cv=5)\n",
    "    GS_model.fit(X_train, y_train)\n",
    "    return GS_model"
   ]
  },
  {
   "cell_type": "code",
   "execution_count": 19,
   "metadata": {},
   "outputs": [
    {
     "name": "stdout",
     "output_type": "stream",
     "text": [
      "{'metric': 'euclidean', 'n_neighbors': 11, 'weights': 'distance'}\n",
      "KNN Cross Validation Scores: [0.57664621 0.59804791 0.53838315 0.50560316 0.59477124]\n",
      "\n",
      "KNN Mean Accuracy: 0.5627\n",
      "\n",
      "First 5 predictions:\n",
      "    test_example_id                                              story  \\\n",
      "0                0  כל קיץ אני והמשפחה נוסעים לארצות הברית לוס אנג...   \n",
      "1                1  הגעתי לשירות המדינה אחרי שנתיים כפעיל בתנועת \"...   \n",
      "2                2  אחת האהבות הגדולות שלי אלו הכלבים שלי ושל אישת...   \n",
      "3                3  רגע הגיוס לצבא היה הרגע הכי משמעותי עבורי, אני...   \n",
      "4                4  אני הגעתי לברזיל ישר מקולומביה וגם אני עשיתי ע...   \n",
      "\n",
      "  predicted_category  \n",
      "0                  m  \n",
      "1                  m  \n",
      "2                  m  \n",
      "3                  m  \n",
      "4                  m  \n",
      "\n",
      "\n",
      "Last 5 predictions:\n",
      "      test_example_id                                              story  \\\n",
      "318              318  בשנה האחרונה הרגשתי די תקוע בעבודה, השגרה הפכה...   \n",
      "319              319  אני ואילן חברים טובים מזה 20 שנה תמיד חלמנו לפ...   \n",
      "320              320  מידי יום שישי אני נוהג לנסוע בתחבורה ציבורית ס...   \n",
      "321              321  לפני מספר חודשים, בשיא התחלואה של הגל השני, עמ...   \n",
      "322              322  היום בו דיווחתי על גניבה של האוטו שלי. בוקר אח...   \n",
      "\n",
      "    predicted_category  \n",
      "318                  m  \n",
      "319                  m  \n",
      "320                  m  \n",
      "321                  m  \n",
      "322                  f  \n",
      "\n",
      "\n",
      "\u001b[92mMales count:\u001b[0m 285\n",
      "\u001b[95mFemales count:\u001b[0m 38\n",
      "\n",
      "y_pred values:\n",
      " \u001b[92m m \u001b[0m\u001b[92m m \u001b[0m\u001b[92m m \u001b[0m\u001b[92m m \u001b[0m\u001b[92m m \u001b[0m\u001b[92m m \u001b[0m\u001b[92m m \u001b[0m\u001b[92m m \u001b[0m\u001b[92m m \u001b[0m\u001b[92m m \u001b[0m\u001b[92m m \u001b[0m\u001b[92m m \u001b[0m\u001b[95m f \u001b[0m\u001b[92m m \u001b[0m\u001b[95m f \u001b[0m\u001b[92m m \u001b[0m\u001b[92m m \u001b[0m\u001b[92m m \u001b[0m\u001b[92m m \u001b[0m\u001b[92m m \u001b[0m\u001b[95m f \u001b[0m\u001b[92m m \u001b[0m\u001b[92m m \u001b[0m\u001b[92m m \u001b[0m\u001b[92m m \u001b[0m\u001b[92m m \u001b[0m\u001b[92m m \u001b[0m\u001b[92m m \u001b[0m\u001b[92m m \u001b[0m\u001b[92m m \u001b[0m\u001b[92m m \u001b[0m\u001b[92m m \u001b[0m\u001b[92m m \u001b[0m\u001b[92m m \u001b[0m\u001b[92m m \u001b[0m\u001b[92m m \u001b[0m\u001b[92m m \u001b[0m\u001b[92m m \u001b[0m\u001b[95m f \u001b[0m\u001b[92m m \u001b[0m\u001b[95m f \u001b[0m\u001b[92m m \u001b[0m\u001b[92m m \u001b[0m\u001b[92m m \u001b[0m\u001b[92m m \u001b[0m\u001b[92m m \u001b[0m\u001b[92m m \u001b[0m\u001b[92m m \u001b[0m\u001b[92m m \u001b[0m\u001b[92m m \u001b[0m\u001b[92m m \u001b[0m\u001b[92m m \u001b[0m\u001b[92m m \u001b[0m\u001b[92m m \u001b[0m\u001b[92m m \u001b[0m\u001b[92m m \u001b[0m\u001b[92m m \u001b[0m\u001b[92m m \u001b[0m\u001b[92m m \u001b[0m\u001b[92m m \u001b[0m\u001b[92m m \u001b[0m\u001b[95m f \u001b[0m\u001b[92m m \u001b[0m\u001b[92m m \u001b[0m\u001b[92m m \u001b[0m\u001b[92m m \u001b[0m\u001b[92m m \u001b[0m\u001b[92m m \u001b[0m\u001b[92m m \u001b[0m\u001b[92m m \u001b[0m\u001b[92m m \u001b[0m\u001b[92m m \u001b[0m\u001b[92m m \u001b[0m\u001b[92m m \u001b[0m\u001b[92m m \u001b[0m\u001b[92m m \u001b[0m\u001b[92m m \u001b[0m\u001b[92m m \u001b[0m\u001b[92m m \u001b[0m\u001b[92m m \u001b[0m\u001b[92m m \u001b[0m\u001b[92m m \u001b[0m\u001b[92m m \u001b[0m\u001b[92m m \u001b[0m\u001b[92m m \u001b[0m\u001b[92m m \u001b[0m\u001b[95m f \u001b[0m\u001b[92m m \u001b[0m\u001b[92m m \u001b[0m\u001b[92m m \u001b[0m\u001b[92m m \u001b[0m\u001b[92m m \u001b[0m\u001b[92m m \u001b[0m\u001b[92m m \u001b[0m\u001b[95m f \u001b[0m\u001b[92m m \u001b[0m\u001b[92m m \u001b[0m\u001b[95m f \u001b[0m\u001b[92m m \u001b[0m\u001b[92m m \u001b[0m\u001b[92m m \u001b[0m\u001b[92m m \u001b[0m\u001b[95m f \u001b[0m\u001b[92m m \u001b[0m\u001b[92m m \u001b[0m\u001b[95m f \u001b[0m\u001b[92m m \u001b[0m\u001b[92m m \u001b[0m\u001b[92m m \u001b[0m\u001b[92m m \u001b[0m\u001b[92m m \u001b[0m\u001b[92m m \u001b[0m\u001b[92m m \u001b[0m\u001b[92m m \u001b[0m\u001b[92m m \u001b[0m\u001b[92m m \u001b[0m\u001b[92m m \u001b[0m\u001b[92m m \u001b[0m\u001b[95m f \u001b[0m\u001b[92m m \u001b[0m\u001b[92m m \u001b[0m\u001b[95m f \u001b[0m\u001b[92m m \u001b[0m\u001b[92m m \u001b[0m\u001b[95m f \u001b[0m\u001b[92m m \u001b[0m\u001b[92m m \u001b[0m\u001b[95m f \u001b[0m\u001b[92m m \u001b[0m\u001b[92m m \u001b[0m\u001b[92m m \u001b[0m\u001b[92m m \u001b[0m\u001b[92m m \u001b[0m\u001b[92m m \u001b[0m\u001b[92m m \u001b[0m\u001b[95m f \u001b[0m\u001b[92m m \u001b[0m\u001b[92m m \u001b[0m\u001b[92m m \u001b[0m\u001b[92m m \u001b[0m\u001b[92m m \u001b[0m\u001b[95m f \u001b[0m\u001b[95m f \u001b[0m\u001b[95m f \u001b[0m\u001b[92m m \u001b[0m\u001b[92m m \u001b[0m\u001b[92m m \u001b[0m\u001b[92m m \u001b[0m\u001b[92m m \u001b[0m\u001b[92m m \u001b[0m\u001b[92m m \u001b[0m\u001b[95m f \u001b[0m\u001b[92m m \u001b[0m\u001b[92m m \u001b[0m\u001b[92m m \u001b[0m\u001b[92m m \u001b[0m\u001b[92m m \u001b[0m\u001b[92m m \u001b[0m\u001b[92m m \u001b[0m\u001b[92m m \u001b[0m\u001b[92m m \u001b[0m\u001b[95m f \u001b[0m\u001b[92m m \u001b[0m\u001b[92m m \u001b[0m\u001b[92m m \u001b[0m\u001b[95m f \u001b[0m\u001b[92m m \u001b[0m\u001b[92m m \u001b[0m\u001b[92m m \u001b[0m\u001b[92m m \u001b[0m\u001b[92m m \u001b[0m\u001b[92m m \u001b[0m\u001b[92m m \u001b[0m\u001b[92m m \u001b[0m\u001b[92m m \u001b[0m\u001b[92m m \u001b[0m\u001b[92m m \u001b[0m\u001b[92m m \u001b[0m\u001b[92m m \u001b[0m\u001b[92m m \u001b[0m\u001b[92m m \u001b[0m\u001b[92m m \u001b[0m\u001b[92m m \u001b[0m\u001b[92m m \u001b[0m\u001b[92m m \u001b[0m\u001b[92m m \u001b[0m\u001b[92m m \u001b[0m\u001b[92m m \u001b[0m\u001b[92m m \u001b[0m\u001b[92m m \u001b[0m\u001b[92m m \u001b[0m\u001b[92m m \u001b[0m\u001b[92m m \u001b[0m\u001b[92m m \u001b[0m\u001b[92m m \u001b[0m\u001b[92m m \u001b[0m\u001b[92m m \u001b[0m\u001b[95m f \u001b[0m\u001b[92m m \u001b[0m\u001b[92m m \u001b[0m\u001b[92m m \u001b[0m\u001b[92m m \u001b[0m\u001b[95m f \u001b[0m\u001b[92m m \u001b[0m\u001b[92m m \u001b[0m\u001b[92m m \u001b[0m\u001b[92m m \u001b[0m\u001b[92m m \u001b[0m\u001b[95m f \u001b[0m\u001b[92m m \u001b[0m\u001b[95m f \u001b[0m\u001b[92m m \u001b[0m\u001b[92m m \u001b[0m\u001b[92m m \u001b[0m\u001b[92m m \u001b[0m\u001b[92m m \u001b[0m\u001b[92m m \u001b[0m\u001b[92m m \u001b[0m\u001b[95m f \u001b[0m\u001b[92m m \u001b[0m\u001b[92m m \u001b[0m\u001b[92m m \u001b[0m\u001b[92m m \u001b[0m\u001b[92m m \u001b[0m\u001b[92m m \u001b[0m\u001b[92m m \u001b[0m\u001b[95m f \u001b[0m\u001b[95m f \u001b[0m\u001b[92m m \u001b[0m\u001b[92m m \u001b[0m\u001b[92m m \u001b[0m\u001b[92m m \u001b[0m\u001b[92m m \u001b[0m\u001b[92m m \u001b[0m\u001b[92m m \u001b[0m\u001b[92m m \u001b[0m\u001b[92m m \u001b[0m\u001b[92m m \u001b[0m\u001b[92m m \u001b[0m\u001b[92m m \u001b[0m\u001b[92m m \u001b[0m\u001b[92m m \u001b[0m\u001b[92m m \u001b[0m\u001b[92m m \u001b[0m\u001b[95m f \u001b[0m\u001b[92m m \u001b[0m\u001b[92m m \u001b[0m\u001b[95m f \u001b[0m\u001b[92m m \u001b[0m\u001b[92m m \u001b[0m\u001b[92m m \u001b[0m\u001b[92m m \u001b[0m\u001b[92m m \u001b[0m\u001b[92m m \u001b[0m\u001b[92m m \u001b[0m\u001b[92m m \u001b[0m\u001b[92m m \u001b[0m\u001b[95m f \u001b[0m\u001b[92m m \u001b[0m\u001b[92m m \u001b[0m\u001b[92m m \u001b[0m\u001b[92m m \u001b[0m\u001b[92m m \u001b[0m\u001b[92m m \u001b[0m\u001b[92m m \u001b[0m\u001b[92m m \u001b[0m\u001b[92m m \u001b[0m\u001b[95m f \u001b[0m\u001b[92m m \u001b[0m\u001b[92m m \u001b[0m\u001b[92m m \u001b[0m\u001b[92m m \u001b[0m\u001b[92m m \u001b[0m\u001b[92m m \u001b[0m\u001b[92m m \u001b[0m\u001b[92m m \u001b[0m\u001b[92m m \u001b[0m\u001b[92m m \u001b[0m\u001b[95m f \u001b[0m\u001b[92m m \u001b[0m\u001b[95m f \u001b[0m\u001b[92m m \u001b[0m\u001b[92m m \u001b[0m\u001b[92m m \u001b[0m\u001b[92m m \u001b[0m\u001b[92m m \u001b[0m\u001b[92m m \u001b[0m\u001b[92m m \u001b[0m\u001b[92m m \u001b[0m\u001b[92m m \u001b[0m\u001b[92m m \u001b[0m\u001b[95m f \u001b[0m\u001b[92m m \u001b[0m\u001b[92m m \u001b[0m\u001b[92m m \u001b[0m\u001b[92m m \u001b[0m\u001b[92m m \u001b[0m\u001b[92m m \u001b[0m\u001b[92m m \u001b[0m\u001b[92m m \u001b[0m\u001b[92m m \u001b[0m\u001b[92m m \u001b[0m\u001b[92m m \u001b[0m\u001b[92m m \u001b[0m\u001b[92m m \u001b[0m\u001b[92m m \u001b[0m\u001b[92m m \u001b[0m\u001b[92m m \u001b[0m\u001b[92m m \u001b[0m\u001b[92m m \u001b[0m\u001b[92m m \u001b[0m\u001b[95m f \u001b[0m\u001b[92m m \u001b[0m\u001b[92m m \u001b[0m\u001b[92m m \u001b[0m\u001b[92m m \u001b[0m\u001b[92m m \u001b[0m\u001b[92m m \u001b[0m\u001b[92m m \u001b[0m\u001b[92m m \u001b[0m\u001b[92m m \u001b[0m\u001b[92m m \u001b[0m\u001b[95m f \u001b[0m\n",
      "\n",
      "{'criterion': 'gini', 'max_depth': 8, 'min_samples_leaf': 5, 'min_samples_split': 20}\n",
      "DT Cross Validation Scores: [0.54711585 0.61073354 0.66173835 0.60452854 0.61020553]\n",
      "\n",
      "DT Mean Accuracy: 0.6069\n",
      "\n",
      "First 5 predictions:\n",
      "    test_example_id                                              story  \\\n",
      "0                0  כל קיץ אני והמשפחה נוסעים לארצות הברית לוס אנג...   \n",
      "1                1  הגעתי לשירות המדינה אחרי שנתיים כפעיל בתנועת \"...   \n",
      "2                2  אחת האהבות הגדולות שלי אלו הכלבים שלי ושל אישת...   \n",
      "3                3  רגע הגיוס לצבא היה הרגע הכי משמעותי עבורי, אני...   \n",
      "4                4  אני הגעתי לברזיל ישר מקולומביה וגם אני עשיתי ע...   \n",
      "\n",
      "  predicted_category  \n",
      "0                  m  \n",
      "1                  m  \n",
      "2                  m  \n",
      "3                  f  \n",
      "4                  f  \n",
      "\n",
      "\n",
      "Last 5 predictions:\n",
      "      test_example_id                                              story  \\\n",
      "318              318  בשנה האחרונה הרגשתי די תקוע בעבודה, השגרה הפכה...   \n",
      "319              319  אני ואילן חברים טובים מזה 20 שנה תמיד חלמנו לפ...   \n",
      "320              320  מידי יום שישי אני נוהג לנסוע בתחבורה ציבורית ס...   \n",
      "321              321  לפני מספר חודשים, בשיא התחלואה של הגל השני, עמ...   \n",
      "322              322  היום בו דיווחתי על גניבה של האוטו שלי. בוקר אח...   \n",
      "\n",
      "    predicted_category  \n",
      "318                  m  \n",
      "319                  m  \n",
      "320                  m  \n",
      "321                  m  \n",
      "322                  m  \n",
      "\n",
      "\n",
      "\u001b[92mMales count:\u001b[0m 249\n",
      "\u001b[95mFemales count:\u001b[0m 74\n",
      "\n",
      "y_pred values:\n",
      " \u001b[92m m \u001b[0m\u001b[92m m \u001b[0m\u001b[92m m \u001b[0m\u001b[95m f \u001b[0m\u001b[95m f \u001b[0m\u001b[92m m \u001b[0m\u001b[92m m \u001b[0m\u001b[92m m \u001b[0m\u001b[92m m \u001b[0m\u001b[92m m \u001b[0m\u001b[95m f \u001b[0m\u001b[92m m \u001b[0m\u001b[95m f \u001b[0m\u001b[92m m \u001b[0m\u001b[92m m \u001b[0m\u001b[92m m \u001b[0m\u001b[92m m \u001b[0m\u001b[92m m \u001b[0m\u001b[95m f \u001b[0m\u001b[92m m \u001b[0m\u001b[92m m \u001b[0m\u001b[92m m \u001b[0m\u001b[92m m \u001b[0m\u001b[92m m \u001b[0m\u001b[92m m \u001b[0m\u001b[92m m \u001b[0m\u001b[92m m \u001b[0m\u001b[92m m \u001b[0m\u001b[92m m \u001b[0m\u001b[92m m \u001b[0m\u001b[95m f \u001b[0m\u001b[95m f \u001b[0m\u001b[92m m \u001b[0m\u001b[92m m \u001b[0m\u001b[95m f \u001b[0m\u001b[92m m \u001b[0m\u001b[92m m \u001b[0m\u001b[92m m \u001b[0m\u001b[92m m \u001b[0m\u001b[92m m \u001b[0m\u001b[92m m \u001b[0m\u001b[92m m \u001b[0m\u001b[95m f \u001b[0m\u001b[92m m \u001b[0m\u001b[92m m \u001b[0m\u001b[92m m \u001b[0m\u001b[92m m \u001b[0m\u001b[92m m \u001b[0m\u001b[95m f \u001b[0m\u001b[92m m \u001b[0m\u001b[95m f \u001b[0m\u001b[92m m \u001b[0m\u001b[95m f \u001b[0m\u001b[92m m \u001b[0m\u001b[92m m \u001b[0m\u001b[92m m \u001b[0m\u001b[92m m \u001b[0m\u001b[92m m \u001b[0m\u001b[92m m \u001b[0m\u001b[92m m \u001b[0m\u001b[92m m \u001b[0m\u001b[92m m \u001b[0m\u001b[92m m \u001b[0m\u001b[92m m \u001b[0m\u001b[95m f \u001b[0m\u001b[92m m \u001b[0m\u001b[92m m \u001b[0m\u001b[92m m \u001b[0m\u001b[95m f \u001b[0m\u001b[95m f \u001b[0m\u001b[92m m \u001b[0m\u001b[95m f \u001b[0m\u001b[92m m \u001b[0m\u001b[92m m \u001b[0m\u001b[95m f \u001b[0m\u001b[92m m \u001b[0m\u001b[92m m \u001b[0m\u001b[95m f \u001b[0m\u001b[92m m \u001b[0m\u001b[92m m \u001b[0m\u001b[92m m \u001b[0m\u001b[92m m \u001b[0m\u001b[95m f \u001b[0m\u001b[92m m \u001b[0m\u001b[92m m \u001b[0m\u001b[92m m \u001b[0m\u001b[95m f \u001b[0m\u001b[95m f \u001b[0m\u001b[92m m \u001b[0m\u001b[92m m \u001b[0m\u001b[92m m \u001b[0m\u001b[92m m \u001b[0m\u001b[92m m \u001b[0m\u001b[95m f \u001b[0m\u001b[95m f \u001b[0m\u001b[92m m \u001b[0m\u001b[92m m \u001b[0m\u001b[92m m \u001b[0m\u001b[92m m \u001b[0m\u001b[95m f \u001b[0m\u001b[95m f \u001b[0m\u001b[92m m \u001b[0m\u001b[95m f \u001b[0m\u001b[95m f \u001b[0m\u001b[92m m \u001b[0m\u001b[92m m \u001b[0m\u001b[92m m \u001b[0m\u001b[92m m \u001b[0m\u001b[92m m \u001b[0m\u001b[95m f \u001b[0m\u001b[92m m \u001b[0m\u001b[92m m \u001b[0m\u001b[92m m \u001b[0m\u001b[92m m \u001b[0m\u001b[92m m \u001b[0m\u001b[92m m \u001b[0m\u001b[95m f \u001b[0m\u001b[92m m \u001b[0m\u001b[92m m \u001b[0m\u001b[92m m \u001b[0m\u001b[92m m \u001b[0m\u001b[95m f \u001b[0m\u001b[92m m \u001b[0m\u001b[92m m \u001b[0m\u001b[92m m \u001b[0m\u001b[95m f \u001b[0m\u001b[92m m \u001b[0m\u001b[92m m \u001b[0m\u001b[92m m \u001b[0m\u001b[95m f \u001b[0m\u001b[92m m \u001b[0m\u001b[92m m \u001b[0m\u001b[92m m \u001b[0m\u001b[92m m \u001b[0m\u001b[95m f \u001b[0m\u001b[95m f \u001b[0m\u001b[92m m \u001b[0m\u001b[95m f \u001b[0m\u001b[92m m \u001b[0m\u001b[92m m \u001b[0m\u001b[92m m \u001b[0m\u001b[92m m \u001b[0m\u001b[95m f \u001b[0m\u001b[92m m \u001b[0m\u001b[92m m \u001b[0m\u001b[92m m \u001b[0m\u001b[92m m \u001b[0m\u001b[95m f \u001b[0m\u001b[92m m \u001b[0m\u001b[95m f \u001b[0m\u001b[92m m \u001b[0m\u001b[95m f \u001b[0m\u001b[92m m \u001b[0m\u001b[92m m \u001b[0m\u001b[95m f \u001b[0m\u001b[92m m \u001b[0m\u001b[92m m \u001b[0m\u001b[92m m \u001b[0m\u001b[92m m \u001b[0m\u001b[95m f \u001b[0m\u001b[92m m \u001b[0m\u001b[92m m \u001b[0m\u001b[95m f \u001b[0m\u001b[95m f \u001b[0m\u001b[92m m \u001b[0m\u001b[95m f \u001b[0m\u001b[92m m \u001b[0m\u001b[92m m \u001b[0m\u001b[92m m \u001b[0m\u001b[92m m \u001b[0m\u001b[92m m \u001b[0m\u001b[92m m \u001b[0m\u001b[92m m \u001b[0m\u001b[92m m \u001b[0m\u001b[95m f \u001b[0m\u001b[95m f \u001b[0m\u001b[92m m \u001b[0m\u001b[95m f \u001b[0m\u001b[92m m \u001b[0m\u001b[92m m \u001b[0m\u001b[92m m \u001b[0m\u001b[95m f \u001b[0m\u001b[92m m \u001b[0m\u001b[92m m \u001b[0m\u001b[95m f \u001b[0m\u001b[92m m \u001b[0m\u001b[95m f \u001b[0m\u001b[92m m \u001b[0m\u001b[95m f \u001b[0m\u001b[92m m \u001b[0m\u001b[92m m \u001b[0m\u001b[92m m \u001b[0m\u001b[92m m \u001b[0m\u001b[92m m \u001b[0m\u001b[92m m \u001b[0m\u001b[92m m \u001b[0m\u001b[92m m \u001b[0m\u001b[92m m \u001b[0m\u001b[92m m \u001b[0m\u001b[95m f \u001b[0m\u001b[95m f \u001b[0m\u001b[92m m \u001b[0m\u001b[92m m \u001b[0m\u001b[92m m \u001b[0m\u001b[92m m \u001b[0m\u001b[92m m \u001b[0m\u001b[92m m \u001b[0m\u001b[92m m \u001b[0m\u001b[95m f \u001b[0m\u001b[95m f \u001b[0m\u001b[92m m \u001b[0m\u001b[92m m \u001b[0m\u001b[92m m \u001b[0m\u001b[92m m \u001b[0m\u001b[92m m \u001b[0m\u001b[92m m \u001b[0m\u001b[95m f \u001b[0m\u001b[92m m \u001b[0m\u001b[95m f \u001b[0m\u001b[92m m \u001b[0m\u001b[92m m \u001b[0m\u001b[92m m \u001b[0m\u001b[92m m \u001b[0m\u001b[92m m \u001b[0m\u001b[92m m \u001b[0m\u001b[92m m \u001b[0m\u001b[92m m \u001b[0m\u001b[95m f \u001b[0m\u001b[95m f \u001b[0m\u001b[95m f \u001b[0m\u001b[95m f \u001b[0m\u001b[92m m \u001b[0m\u001b[92m m \u001b[0m\u001b[92m m \u001b[0m\u001b[92m m \u001b[0m\u001b[92m m \u001b[0m\u001b[92m m \u001b[0m\u001b[92m m \u001b[0m\u001b[92m m \u001b[0m\u001b[92m m \u001b[0m\u001b[92m m \u001b[0m\u001b[92m m \u001b[0m\u001b[95m f \u001b[0m\u001b[92m m \u001b[0m\u001b[92m m \u001b[0m\u001b[92m m \u001b[0m\u001b[92m m \u001b[0m\u001b[95m f \u001b[0m\u001b[92m m \u001b[0m\u001b[95m f \u001b[0m\u001b[92m m \u001b[0m\u001b[92m m \u001b[0m\u001b[92m m \u001b[0m\u001b[95m f \u001b[0m\u001b[92m m \u001b[0m\u001b[92m m \u001b[0m\u001b[92m m \u001b[0m\u001b[92m m \u001b[0m\u001b[92m m \u001b[0m\u001b[92m m \u001b[0m\u001b[92m m \u001b[0m\u001b[92m m \u001b[0m\u001b[95m f \u001b[0m\u001b[92m m \u001b[0m\u001b[92m m \u001b[0m\u001b[95m f \u001b[0m\u001b[92m m \u001b[0m\u001b[95m f \u001b[0m\u001b[95m f \u001b[0m\u001b[92m m \u001b[0m\u001b[92m m \u001b[0m\u001b[92m m \u001b[0m\u001b[92m m \u001b[0m\u001b[92m m \u001b[0m\u001b[92m m \u001b[0m\u001b[92m m \u001b[0m\u001b[92m m \u001b[0m\u001b[92m m \u001b[0m\u001b[92m m \u001b[0m\u001b[92m m \u001b[0m\u001b[95m f \u001b[0m\u001b[92m m \u001b[0m\u001b[92m m \u001b[0m\u001b[92m m \u001b[0m\u001b[92m m \u001b[0m\u001b[92m m \u001b[0m\u001b[92m m \u001b[0m\u001b[92m m \u001b[0m\u001b[92m m \u001b[0m\u001b[92m m \u001b[0m\u001b[92m m \u001b[0m\u001b[92m m \u001b[0m\u001b[95m f \u001b[0m\u001b[92m m \u001b[0m\u001b[92m m \u001b[0m\u001b[92m m \u001b[0m\u001b[92m m \u001b[0m\u001b[92m m \u001b[0m\u001b[95m f \u001b[0m\u001b[92m m \u001b[0m\u001b[92m m \u001b[0m\u001b[95m f \u001b[0m\u001b[92m m \u001b[0m\u001b[92m m \u001b[0m\u001b[92m m \u001b[0m\u001b[92m m \u001b[0m\u001b[92m m \u001b[0m\u001b[92m m \u001b[0m\u001b[92m m \u001b[0m\u001b[92m m \u001b[0m\u001b[92m m \u001b[0m\u001b[92m m \u001b[0m\u001b[92m m \u001b[0m\u001b[92m m \u001b[0m\u001b[95m f \u001b[0m\u001b[92m m \u001b[0m\u001b[92m m \u001b[0m\u001b[92m m \u001b[0m\u001b[92m m \u001b[0m\u001b[92m m \u001b[0m\u001b[92m m \u001b[0m\u001b[92m m \u001b[0m\u001b[92m m \u001b[0m\n",
      "\n"
     ]
    },
    {
     "name": "stdout",
     "output_type": "stream",
     "text": [
      "{'alpha': 0.0133, 'solver': 'lbfgs'}\n",
      "MLP Cross Validation Scores: [0.65692957 0.72211999 0.68801653 0.61020553 0.67431762]\n",
      "\n",
      "MLP Mean Accuracy: 0.6703\n",
      "\n",
      "First 5 predictions:\n",
      "    test_example_id                                              story  \\\n",
      "0                0  כל קיץ אני והמשפחה נוסעים לארצות הברית לוס אנג...   \n",
      "1                1  הגעתי לשירות המדינה אחרי שנתיים כפעיל בתנועת \"...   \n",
      "2                2  אחת האהבות הגדולות שלי אלו הכלבים שלי ושל אישת...   \n",
      "3                3  רגע הגיוס לצבא היה הרגע הכי משמעותי עבורי, אני...   \n",
      "4                4  אני הגעתי לברזיל ישר מקולומביה וגם אני עשיתי ע...   \n",
      "\n",
      "  predicted_category  \n",
      "0                  m  \n",
      "1                  m  \n",
      "2                  m  \n",
      "3                  m  \n",
      "4                  f  \n",
      "\n",
      "\n",
      "Last 5 predictions:\n",
      "      test_example_id                                              story  \\\n",
      "318              318  בשנה האחרונה הרגשתי די תקוע בעבודה, השגרה הפכה...   \n",
      "319              319  אני ואילן חברים טובים מזה 20 שנה תמיד חלמנו לפ...   \n",
      "320              320  מידי יום שישי אני נוהג לנסוע בתחבורה ציבורית ס...   \n",
      "321              321  לפני מספר חודשים, בשיא התחלואה של הגל השני, עמ...   \n",
      "322              322  היום בו דיווחתי על גניבה של האוטו שלי. בוקר אח...   \n",
      "\n",
      "    predicted_category  \n",
      "318                  m  \n",
      "319                  m  \n",
      "320                  m  \n",
      "321                  m  \n",
      "322                  m  \n",
      "\n",
      "\n",
      "\u001b[92mMales count:\u001b[0m 274\n",
      "\u001b[95mFemales count:\u001b[0m 49\n",
      "\n",
      "y_pred values:\n",
      " \u001b[92m m \u001b[0m\u001b[92m m \u001b[0m\u001b[92m m \u001b[0m\u001b[92m m \u001b[0m\u001b[95m f \u001b[0m\u001b[92m m \u001b[0m\u001b[92m m \u001b[0m\u001b[92m m \u001b[0m\u001b[92m m \u001b[0m\u001b[92m m \u001b[0m\u001b[95m f \u001b[0m\u001b[92m m \u001b[0m\u001b[92m m \u001b[0m\u001b[92m m \u001b[0m\u001b[95m f \u001b[0m\u001b[92m m \u001b[0m\u001b[92m m \u001b[0m\u001b[92m m \u001b[0m\u001b[92m m \u001b[0m\u001b[92m m \u001b[0m\u001b[95m f \u001b[0m\u001b[92m m \u001b[0m\u001b[92m m \u001b[0m\u001b[92m m \u001b[0m\u001b[92m m \u001b[0m\u001b[92m m \u001b[0m\u001b[92m m \u001b[0m\u001b[92m m \u001b[0m\u001b[92m m \u001b[0m\u001b[92m m \u001b[0m\u001b[92m m \u001b[0m\u001b[92m m \u001b[0m\u001b[95m f \u001b[0m\u001b[92m m \u001b[0m\u001b[92m m \u001b[0m\u001b[95m f \u001b[0m\u001b[92m m \u001b[0m\u001b[92m m \u001b[0m\u001b[92m m \u001b[0m\u001b[92m m \u001b[0m\u001b[92m m \u001b[0m\u001b[92m m \u001b[0m\u001b[92m m \u001b[0m\u001b[92m m \u001b[0m\u001b[92m m \u001b[0m\u001b[92m m \u001b[0m\u001b[92m m \u001b[0m\u001b[92m m \u001b[0m\u001b[92m m \u001b[0m\u001b[92m m \u001b[0m\u001b[95m f \u001b[0m\u001b[92m m \u001b[0m\u001b[95m f \u001b[0m\u001b[92m m \u001b[0m\u001b[92m m \u001b[0m\u001b[92m m \u001b[0m\u001b[92m m \u001b[0m\u001b[92m m \u001b[0m\u001b[92m m \u001b[0m\u001b[92m m \u001b[0m\u001b[92m m \u001b[0m\u001b[92m m \u001b[0m\u001b[92m m \u001b[0m\u001b[92m m \u001b[0m\u001b[95m f \u001b[0m\u001b[92m m \u001b[0m\u001b[92m m \u001b[0m\u001b[92m m \u001b[0m\u001b[92m m \u001b[0m\u001b[92m m \u001b[0m\u001b[92m m \u001b[0m\u001b[92m m \u001b[0m\u001b[92m m \u001b[0m\u001b[95m f \u001b[0m\u001b[95m f \u001b[0m\u001b[92m m \u001b[0m\u001b[92m m \u001b[0m\u001b[92m m \u001b[0m\u001b[92m m \u001b[0m\u001b[92m m \u001b[0m\u001b[92m m \u001b[0m\u001b[92m m \u001b[0m\u001b[92m m \u001b[0m\u001b[92m m \u001b[0m\u001b[92m m \u001b[0m\u001b[92m m \u001b[0m\u001b[92m m \u001b[0m\u001b[95m f \u001b[0m\u001b[92m m \u001b[0m\u001b[92m m \u001b[0m\u001b[92m m \u001b[0m\u001b[92m m \u001b[0m\u001b[92m m \u001b[0m\u001b[92m m \u001b[0m\u001b[95m f \u001b[0m\u001b[92m m \u001b[0m\u001b[92m m \u001b[0m\u001b[92m m \u001b[0m\u001b[92m m \u001b[0m\u001b[95m f \u001b[0m\u001b[92m m \u001b[0m\u001b[92m m \u001b[0m\u001b[92m m \u001b[0m\u001b[92m m \u001b[0m\u001b[92m m \u001b[0m\u001b[92m m \u001b[0m\u001b[92m m \u001b[0m\u001b[92m m \u001b[0m\u001b[92m m \u001b[0m\u001b[92m m \u001b[0m\u001b[92m m \u001b[0m\u001b[92m m \u001b[0m\u001b[95m f \u001b[0m\u001b[92m m \u001b[0m\u001b[92m m \u001b[0m\u001b[92m m \u001b[0m\u001b[92m m \u001b[0m\u001b[95m f \u001b[0m\u001b[92m m \u001b[0m\u001b[92m m \u001b[0m\u001b[92m m \u001b[0m\u001b[95m f \u001b[0m\u001b[92m m \u001b[0m\u001b[92m m \u001b[0m\u001b[95m f \u001b[0m\u001b[95m f \u001b[0m\u001b[92m m \u001b[0m\u001b[95m f \u001b[0m\u001b[92m m \u001b[0m\u001b[92m m \u001b[0m\u001b[92m m \u001b[0m\u001b[92m m \u001b[0m\u001b[92m m \u001b[0m\u001b[92m m \u001b[0m\u001b[95m f \u001b[0m\u001b[95m f \u001b[0m\u001b[92m m \u001b[0m\u001b[92m m \u001b[0m\u001b[95m f \u001b[0m\u001b[92m m \u001b[0m\u001b[92m m \u001b[0m\u001b[95m f \u001b[0m\u001b[92m m \u001b[0m\u001b[95m f \u001b[0m\u001b[92m m \u001b[0m\u001b[92m m \u001b[0m\u001b[92m m \u001b[0m\u001b[92m m \u001b[0m\u001b[92m m \u001b[0m\u001b[92m m \u001b[0m\u001b[92m m \u001b[0m\u001b[95m f \u001b[0m\u001b[92m m \u001b[0m\u001b[92m m \u001b[0m\u001b[92m m \u001b[0m\u001b[92m m \u001b[0m\u001b[92m m \u001b[0m\u001b[92m m \u001b[0m\u001b[92m m \u001b[0m\u001b[92m m \u001b[0m\u001b[92m m \u001b[0m\u001b[92m m \u001b[0m\u001b[92m m \u001b[0m\u001b[92m m \u001b[0m\u001b[92m m \u001b[0m\u001b[92m m \u001b[0m\u001b[92m m \u001b[0m\u001b[92m m \u001b[0m\u001b[92m m \u001b[0m\u001b[92m m \u001b[0m\u001b[92m m \u001b[0m\u001b[92m m \u001b[0m\u001b[92m m \u001b[0m\u001b[92m m \u001b[0m\u001b[92m m \u001b[0m\u001b[92m m \u001b[0m\u001b[92m m \u001b[0m\u001b[92m m \u001b[0m\u001b[92m m \u001b[0m\u001b[92m m \u001b[0m\u001b[92m m \u001b[0m\u001b[92m m \u001b[0m\u001b[92m m \u001b[0m\u001b[92m m \u001b[0m\u001b[92m m \u001b[0m\u001b[92m m \u001b[0m\u001b[92m m \u001b[0m\u001b[92m m \u001b[0m\u001b[92m m \u001b[0m\u001b[92m m \u001b[0m\u001b[92m m \u001b[0m\u001b[92m m \u001b[0m\u001b[92m m \u001b[0m\u001b[92m m \u001b[0m\u001b[92m m \u001b[0m\u001b[92m m \u001b[0m\u001b[92m m \u001b[0m\u001b[92m m \u001b[0m\u001b[92m m \u001b[0m\u001b[95m f \u001b[0m\u001b[92m m \u001b[0m\u001b[92m m \u001b[0m\u001b[95m f \u001b[0m\u001b[92m m \u001b[0m\u001b[92m m \u001b[0m\u001b[92m m \u001b[0m\u001b[92m m \u001b[0m\u001b[92m m \u001b[0m\u001b[95m f \u001b[0m\u001b[95m f \u001b[0m\u001b[92m m \u001b[0m\u001b[92m m \u001b[0m\u001b[92m m \u001b[0m\u001b[92m m \u001b[0m\u001b[92m m \u001b[0m\u001b[92m m \u001b[0m\u001b[92m m \u001b[0m\u001b[92m m \u001b[0m\u001b[95m f \u001b[0m\u001b[92m m \u001b[0m\u001b[92m m \u001b[0m\u001b[92m m \u001b[0m\u001b[92m m \u001b[0m\u001b[92m m \u001b[0m\u001b[92m m \u001b[0m\u001b[92m m \u001b[0m\u001b[92m m \u001b[0m\u001b[92m m \u001b[0m\u001b[92m m \u001b[0m\u001b[95m f \u001b[0m\u001b[92m m \u001b[0m\u001b[92m m \u001b[0m\u001b[92m m \u001b[0m\u001b[92m m \u001b[0m\u001b[92m m \u001b[0m\u001b[92m m \u001b[0m\u001b[95m f \u001b[0m\u001b[92m m \u001b[0m\u001b[92m m \u001b[0m\u001b[92m m \u001b[0m\u001b[92m m \u001b[0m\u001b[92m m \u001b[0m\u001b[92m m \u001b[0m\u001b[92m m \u001b[0m\u001b[95m f \u001b[0m\u001b[92m m \u001b[0m\u001b[92m m \u001b[0m\u001b[92m m \u001b[0m\u001b[92m m \u001b[0m\u001b[92m m \u001b[0m\u001b[95m f \u001b[0m\u001b[92m m \u001b[0m\u001b[95m f \u001b[0m\u001b[95m f \u001b[0m\u001b[92m m \u001b[0m\u001b[92m m \u001b[0m\u001b[92m m \u001b[0m\u001b[95m f \u001b[0m\u001b[95m f \u001b[0m\u001b[92m m \u001b[0m\u001b[92m m \u001b[0m\u001b[92m m \u001b[0m\u001b[92m m \u001b[0m\u001b[92m m \u001b[0m\u001b[92m m \u001b[0m\u001b[95m f \u001b[0m\u001b[92m m \u001b[0m\u001b[95m f \u001b[0m\u001b[92m m \u001b[0m\u001b[92m m \u001b[0m\u001b[92m m \u001b[0m\u001b[92m m \u001b[0m\u001b[92m m \u001b[0m\u001b[92m m \u001b[0m\u001b[92m m \u001b[0m\u001b[92m m \u001b[0m\u001b[92m m \u001b[0m\u001b[92m m \u001b[0m\u001b[95m f \u001b[0m\u001b[92m m \u001b[0m\u001b[92m m \u001b[0m\u001b[92m m \u001b[0m\u001b[92m m \u001b[0m\u001b[92m m \u001b[0m\u001b[92m m \u001b[0m\u001b[92m m \u001b[0m\u001b[92m m \u001b[0m\u001b[95m f \u001b[0m\u001b[92m m \u001b[0m\u001b[92m m \u001b[0m\u001b[92m m \u001b[0m\u001b[95m f \u001b[0m\u001b[95m f \u001b[0m\u001b[95m f \u001b[0m\u001b[92m m \u001b[0m\u001b[92m m \u001b[0m\u001b[92m m \u001b[0m\u001b[92m m \u001b[0m\u001b[95m f \u001b[0m\u001b[92m m \u001b[0m\u001b[92m m \u001b[0m\u001b[92m m \u001b[0m\u001b[92m m \u001b[0m\u001b[92m m \u001b[0m\u001b[92m m \u001b[0m\u001b[92m m \u001b[0m\u001b[92m m \u001b[0m\u001b[95m f \u001b[0m\u001b[92m m \u001b[0m\u001b[92m m \u001b[0m\u001b[92m m \u001b[0m\u001b[92m m \u001b[0m\u001b[92m m \u001b[0m\u001b[92m m \u001b[0m\u001b[95m f \u001b[0m\u001b[92m m \u001b[0m\u001b[92m m \u001b[0m\u001b[92m m \u001b[0m\u001b[92m m \u001b[0m\u001b[92m m \u001b[0m\u001b[92m m \u001b[0m\u001b[92m m \u001b[0m\u001b[92m m \u001b[0m\n",
      "\n",
      "{'loss': 'squared_hinge', 'penalty': 'l2'}\n",
      "LinearSVC Cross Validation Scores: [0.66480487 0.67798556 0.55413386 0.59477124 0.65277778]\n",
      "\n",
      "LinearSVC Mean Accuracy: 0.6289\n",
      "\n",
      "First 5 predictions:\n",
      "    test_example_id                                              story  \\\n",
      "0                0  כל קיץ אני והמשפחה נוסעים לארצות הברית לוס אנג...   \n",
      "1                1  הגעתי לשירות המדינה אחרי שנתיים כפעיל בתנועת \"...   \n",
      "2                2  אחת האהבות הגדולות שלי אלו הכלבים שלי ושל אישת...   \n",
      "3                3  רגע הגיוס לצבא היה הרגע הכי משמעותי עבורי, אני...   \n",
      "4                4  אני הגעתי לברזיל ישר מקולומביה וגם אני עשיתי ע...   \n",
      "\n",
      "  predicted_category  \n",
      "0                  m  \n",
      "1                  m  \n",
      "2                  m  \n",
      "3                  m  \n",
      "4                  f  \n",
      "\n",
      "\n",
      "Last 5 predictions:\n",
      "      test_example_id                                              story  \\\n",
      "318              318  בשנה האחרונה הרגשתי די תקוע בעבודה, השגרה הפכה...   \n",
      "319              319  אני ואילן חברים טובים מזה 20 שנה תמיד חלמנו לפ...   \n",
      "320              320  מידי יום שישי אני נוהג לנסוע בתחבורה ציבורית ס...   \n",
      "321              321  לפני מספר חודשים, בשיא התחלואה של הגל השני, עמ...   \n",
      "322              322  היום בו דיווחתי על גניבה של האוטו שלי. בוקר אח...   \n",
      "\n",
      "    predicted_category  \n",
      "318                  m  \n",
      "319                  m  \n",
      "320                  m  \n",
      "321                  m  \n",
      "322                  m  \n",
      "\n",
      "\n",
      "\u001b[92mMales count:\u001b[0m 287\n",
      "\u001b[95mFemales count:\u001b[0m 36\n",
      "\n",
      "y_pred values:\n",
      " \u001b[92m m \u001b[0m\u001b[92m m \u001b[0m\u001b[92m m \u001b[0m\u001b[92m m \u001b[0m\u001b[95m f \u001b[0m\u001b[92m m \u001b[0m\u001b[92m m \u001b[0m\u001b[92m m \u001b[0m\u001b[92m m \u001b[0m\u001b[92m m \u001b[0m\u001b[95m f \u001b[0m\u001b[92m m \u001b[0m\u001b[92m m \u001b[0m\u001b[92m m \u001b[0m\u001b[95m f \u001b[0m\u001b[92m m \u001b[0m\u001b[92m m \u001b[0m\u001b[92m m \u001b[0m\u001b[92m m \u001b[0m\u001b[92m m \u001b[0m\u001b[92m m \u001b[0m\u001b[92m m \u001b[0m\u001b[92m m \u001b[0m\u001b[92m m \u001b[0m\u001b[92m m \u001b[0m\u001b[92m m \u001b[0m\u001b[92m m \u001b[0m\u001b[92m m \u001b[0m\u001b[92m m \u001b[0m\u001b[92m m \u001b[0m\u001b[92m m \u001b[0m\u001b[92m m \u001b[0m\u001b[95m f \u001b[0m\u001b[92m m \u001b[0m\u001b[92m m \u001b[0m\u001b[95m f \u001b[0m\u001b[92m m \u001b[0m\u001b[92m m \u001b[0m\u001b[92m m \u001b[0m\u001b[92m m \u001b[0m\u001b[92m m \u001b[0m\u001b[92m m \u001b[0m\u001b[92m m \u001b[0m\u001b[92m m \u001b[0m\u001b[92m m \u001b[0m\u001b[92m m \u001b[0m\u001b[92m m \u001b[0m\u001b[92m m \u001b[0m\u001b[92m m \u001b[0m\u001b[92m m \u001b[0m\u001b[95m f \u001b[0m\u001b[92m m \u001b[0m\u001b[95m f \u001b[0m\u001b[92m m \u001b[0m\u001b[92m m \u001b[0m\u001b[92m m \u001b[0m\u001b[92m m \u001b[0m\u001b[92m m \u001b[0m\u001b[92m m \u001b[0m\u001b[92m m \u001b[0m\u001b[92m m \u001b[0m\u001b[92m m \u001b[0m\u001b[92m m \u001b[0m\u001b[92m m \u001b[0m\u001b[95m f \u001b[0m\u001b[92m m \u001b[0m\u001b[92m m \u001b[0m\u001b[92m m \u001b[0m\u001b[92m m \u001b[0m\u001b[92m m \u001b[0m\u001b[92m m \u001b[0m\u001b[92m m \u001b[0m\u001b[92m m \u001b[0m\u001b[95m f \u001b[0m\u001b[95m f \u001b[0m\u001b[92m m \u001b[0m\u001b[92m m \u001b[0m\u001b[92m m \u001b[0m\u001b[92m m \u001b[0m\u001b[92m m \u001b[0m\u001b[92m m \u001b[0m\u001b[92m m \u001b[0m\u001b[92m m \u001b[0m\u001b[92m m \u001b[0m\u001b[92m m \u001b[0m\u001b[92m m \u001b[0m\u001b[92m m \u001b[0m\u001b[95m f \u001b[0m\u001b[92m m \u001b[0m\u001b[92m m \u001b[0m\u001b[92m m \u001b[0m\u001b[92m m \u001b[0m\u001b[92m m \u001b[0m\u001b[92m m \u001b[0m\u001b[95m f \u001b[0m\u001b[92m m \u001b[0m\u001b[92m m \u001b[0m\u001b[92m m \u001b[0m\u001b[92m m \u001b[0m\u001b[95m f \u001b[0m\u001b[92m m \u001b[0m\u001b[92m m \u001b[0m\u001b[92m m \u001b[0m\u001b[92m m \u001b[0m\u001b[92m m \u001b[0m\u001b[92m m \u001b[0m\u001b[92m m \u001b[0m\u001b[92m m \u001b[0m\u001b[92m m \u001b[0m\u001b[92m m \u001b[0m\u001b[92m m \u001b[0m\u001b[92m m \u001b[0m\u001b[95m f \u001b[0m\u001b[92m m \u001b[0m\u001b[92m m \u001b[0m\u001b[92m m \u001b[0m\u001b[92m m \u001b[0m\u001b[92m m \u001b[0m\u001b[92m m \u001b[0m\u001b[92m m \u001b[0m\u001b[92m m \u001b[0m\u001b[92m m \u001b[0m\u001b[92m m \u001b[0m\u001b[92m m \u001b[0m\u001b[95m f \u001b[0m\u001b[92m m \u001b[0m\u001b[92m m \u001b[0m\u001b[95m f \u001b[0m\u001b[92m m \u001b[0m\u001b[92m m \u001b[0m\u001b[92m m \u001b[0m\u001b[92m m \u001b[0m\u001b[92m m \u001b[0m\u001b[92m m \u001b[0m\u001b[95m f \u001b[0m\u001b[95m f \u001b[0m\u001b[92m m \u001b[0m\u001b[92m m \u001b[0m\u001b[92m m \u001b[0m\u001b[92m m \u001b[0m\u001b[92m m \u001b[0m\u001b[95m f \u001b[0m\u001b[92m m \u001b[0m\u001b[95m f \u001b[0m\u001b[92m m \u001b[0m\u001b[92m m \u001b[0m\u001b[92m m \u001b[0m\u001b[92m m \u001b[0m\u001b[92m m \u001b[0m\u001b[92m m \u001b[0m\u001b[92m m \u001b[0m\u001b[95m f \u001b[0m\u001b[92m m \u001b[0m\u001b[92m m \u001b[0m\u001b[92m m \u001b[0m\u001b[92m m \u001b[0m\u001b[92m m \u001b[0m\u001b[92m m \u001b[0m\u001b[92m m \u001b[0m\u001b[92m m \u001b[0m\u001b[92m m \u001b[0m\u001b[92m m \u001b[0m\u001b[92m m \u001b[0m\u001b[92m m \u001b[0m\u001b[92m m \u001b[0m\u001b[92m m \u001b[0m\u001b[92m m \u001b[0m\u001b[92m m \u001b[0m\u001b[92m m \u001b[0m\u001b[92m m \u001b[0m\u001b[92m m \u001b[0m\u001b[92m m \u001b[0m\u001b[92m m \u001b[0m\u001b[92m m \u001b[0m\u001b[92m m \u001b[0m\u001b[92m m \u001b[0m\u001b[92m m \u001b[0m\u001b[92m m \u001b[0m\u001b[92m m \u001b[0m\u001b[92m m \u001b[0m\u001b[92m m \u001b[0m\u001b[92m m \u001b[0m\u001b[92m m \u001b[0m\u001b[92m m \u001b[0m\u001b[92m m \u001b[0m\u001b[92m m \u001b[0m\u001b[92m m \u001b[0m\u001b[92m m \u001b[0m\u001b[92m m \u001b[0m\u001b[92m m \u001b[0m\u001b[92m m \u001b[0m\u001b[92m m \u001b[0m\u001b[92m m \u001b[0m\u001b[92m m \u001b[0m\u001b[92m m \u001b[0m\u001b[92m m \u001b[0m\u001b[92m m \u001b[0m\u001b[92m m \u001b[0m\u001b[92m m \u001b[0m\u001b[95m f \u001b[0m\u001b[92m m \u001b[0m\u001b[92m m \u001b[0m\u001b[92m m \u001b[0m\u001b[92m m \u001b[0m\u001b[92m m \u001b[0m\u001b[92m m \u001b[0m\u001b[92m m \u001b[0m\u001b[92m m \u001b[0m\u001b[95m f \u001b[0m\u001b[95m f \u001b[0m\u001b[92m m \u001b[0m\u001b[92m m \u001b[0m\u001b[92m m \u001b[0m\u001b[92m m \u001b[0m\u001b[92m m \u001b[0m\u001b[92m m \u001b[0m\u001b[92m m \u001b[0m\u001b[92m m \u001b[0m\u001b[92m m \u001b[0m\u001b[92m m \u001b[0m\u001b[92m m \u001b[0m\u001b[92m m \u001b[0m\u001b[92m m \u001b[0m\u001b[92m m \u001b[0m\u001b[92m m \u001b[0m\u001b[92m m \u001b[0m\u001b[92m m \u001b[0m\u001b[92m m \u001b[0m\u001b[92m m \u001b[0m\u001b[95m f \u001b[0m\u001b[92m m \u001b[0m\u001b[92m m \u001b[0m\u001b[92m m \u001b[0m\u001b[92m m \u001b[0m\u001b[92m m \u001b[0m\u001b[92m m \u001b[0m\u001b[92m m \u001b[0m\u001b[92m m \u001b[0m\u001b[92m m \u001b[0m\u001b[92m m \u001b[0m\u001b[92m m \u001b[0m\u001b[92m m \u001b[0m\u001b[92m m \u001b[0m\u001b[92m m \u001b[0m\u001b[95m f \u001b[0m\u001b[92m m \u001b[0m\u001b[92m m \u001b[0m\u001b[92m m \u001b[0m\u001b[92m m \u001b[0m\u001b[92m m \u001b[0m\u001b[92m m \u001b[0m\u001b[92m m \u001b[0m\u001b[95m f \u001b[0m\u001b[95m f \u001b[0m\u001b[92m m \u001b[0m\u001b[92m m \u001b[0m\u001b[92m m \u001b[0m\u001b[95m f \u001b[0m\u001b[95m f \u001b[0m\u001b[92m m \u001b[0m\u001b[92m m \u001b[0m\u001b[92m m \u001b[0m\u001b[92m m \u001b[0m\u001b[92m m \u001b[0m\u001b[92m m \u001b[0m\u001b[92m m \u001b[0m\u001b[92m m \u001b[0m\u001b[95m f \u001b[0m\u001b[92m m \u001b[0m\u001b[92m m \u001b[0m\u001b[92m m \u001b[0m\u001b[92m m \u001b[0m\u001b[92m m \u001b[0m\u001b[92m m \u001b[0m\u001b[92m m \u001b[0m\u001b[92m m \u001b[0m\u001b[92m m \u001b[0m\u001b[92m m \u001b[0m\u001b[92m m \u001b[0m\u001b[92m m \u001b[0m\u001b[92m m \u001b[0m\u001b[92m m \u001b[0m\u001b[92m m \u001b[0m\u001b[92m m \u001b[0m\u001b[92m m \u001b[0m\u001b[92m m \u001b[0m\u001b[92m m \u001b[0m\u001b[92m m \u001b[0m\u001b[92m m \u001b[0m\u001b[95m f \u001b[0m\u001b[92m m \u001b[0m\u001b[95m f \u001b[0m\u001b[92m m \u001b[0m\u001b[92m m \u001b[0m\u001b[92m m \u001b[0m\u001b[92m m \u001b[0m\u001b[92m m \u001b[0m\u001b[92m m \u001b[0m\u001b[95m f \u001b[0m\u001b[92m m \u001b[0m\u001b[92m m \u001b[0m\u001b[92m m \u001b[0m\u001b[92m m \u001b[0m\u001b[92m m \u001b[0m\u001b[92m m \u001b[0m\u001b[92m m \u001b[0m\u001b[92m m \u001b[0m\u001b[92m m \u001b[0m\u001b[92m m \u001b[0m\u001b[92m m \u001b[0m\u001b[95m f \u001b[0m\u001b[92m m \u001b[0m\u001b[92m m \u001b[0m\u001b[92m m \u001b[0m\u001b[95m f \u001b[0m\u001b[92m m \u001b[0m\u001b[92m m \u001b[0m\u001b[92m m \u001b[0m\u001b[92m m \u001b[0m\u001b[92m m \u001b[0m\u001b[92m m \u001b[0m\u001b[92m m \u001b[0m\u001b[92m m \u001b[0m\n",
      "\n"
     ]
    },
    {
     "name": "stdout",
     "output_type": "stream",
     "text": [
      "{'alpha': 0.0001, 'penalty': 'l1'}\n",
      "Perceptron Cross Validation Scores: [0.68997585 0.75775964 0.66721763 0.58918179 0.68322981]\n",
      "\n",
      "Perceptron Mean Accuracy: 0.6775\n",
      "\n",
      "First 5 predictions:\n",
      "    test_example_id                                              story  \\\n",
      "0                0  כל קיץ אני והמשפחה נוסעים לארצות הברית לוס אנג...   \n",
      "1                1  הגעתי לשירות המדינה אחרי שנתיים כפעיל בתנועת \"...   \n",
      "2                2  אחת האהבות הגדולות שלי אלו הכלבים שלי ושל אישת...   \n",
      "3                3  רגע הגיוס לצבא היה הרגע הכי משמעותי עבורי, אני...   \n",
      "4                4  אני הגעתי לברזיל ישר מקולומביה וגם אני עשיתי ע...   \n",
      "\n",
      "  predicted_category  \n",
      "0                  m  \n",
      "1                  m  \n",
      "2                  m  \n",
      "3                  m  \n",
      "4                  f  \n",
      "\n",
      "\n",
      "Last 5 predictions:\n",
      "      test_example_id                                              story  \\\n",
      "318              318  בשנה האחרונה הרגשתי די תקוע בעבודה, השגרה הפכה...   \n",
      "319              319  אני ואילן חברים טובים מזה 20 שנה תמיד חלמנו לפ...   \n",
      "320              320  מידי יום שישי אני נוהג לנסוע בתחבורה ציבורית ס...   \n",
      "321              321  לפני מספר חודשים, בשיא התחלואה של הגל השני, עמ...   \n",
      "322              322  היום בו דיווחתי על גניבה של האוטו שלי. בוקר אח...   \n",
      "\n",
      "    predicted_category  \n",
      "318                  m  \n",
      "319                  m  \n",
      "320                  m  \n",
      "321                  m  \n",
      "322                  m  \n",
      "\n",
      "\n",
      "\u001b[92mMales count:\u001b[0m 258\n",
      "\u001b[95mFemales count:\u001b[0m 65\n",
      "\n",
      "y_pred values:\n",
      " \u001b[92m m \u001b[0m\u001b[92m m \u001b[0m\u001b[92m m \u001b[0m\u001b[92m m \u001b[0m\u001b[95m f \u001b[0m\u001b[92m m \u001b[0m\u001b[92m m \u001b[0m\u001b[92m m \u001b[0m\u001b[92m m \u001b[0m\u001b[92m m \u001b[0m\u001b[95m f \u001b[0m\u001b[92m m \u001b[0m\u001b[95m f \u001b[0m\u001b[92m m \u001b[0m\u001b[95m f \u001b[0m\u001b[92m m \u001b[0m\u001b[92m m \u001b[0m\u001b[92m m \u001b[0m\u001b[92m m \u001b[0m\u001b[92m m \u001b[0m\u001b[95m f \u001b[0m\u001b[92m m \u001b[0m\u001b[92m m \u001b[0m\u001b[92m m \u001b[0m\u001b[92m m \u001b[0m\u001b[92m m \u001b[0m\u001b[92m m \u001b[0m\u001b[95m f \u001b[0m\u001b[92m m \u001b[0m\u001b[92m m \u001b[0m\u001b[92m m \u001b[0m\u001b[92m m \u001b[0m\u001b[95m f \u001b[0m\u001b[92m m \u001b[0m\u001b[95m f \u001b[0m\u001b[95m f \u001b[0m\u001b[92m m \u001b[0m\u001b[95m f \u001b[0m\u001b[92m m \u001b[0m\u001b[92m m \u001b[0m\u001b[95m f \u001b[0m\u001b[92m m \u001b[0m\u001b[92m m \u001b[0m\u001b[92m m \u001b[0m\u001b[92m m \u001b[0m\u001b[92m m \u001b[0m\u001b[92m m \u001b[0m\u001b[92m m \u001b[0m\u001b[92m m \u001b[0m\u001b[92m m \u001b[0m\u001b[95m f \u001b[0m\u001b[92m m \u001b[0m\u001b[95m f \u001b[0m\u001b[92m m \u001b[0m\u001b[92m m \u001b[0m\u001b[92m m \u001b[0m\u001b[92m m \u001b[0m\u001b[92m m \u001b[0m\u001b[92m m \u001b[0m\u001b[92m m \u001b[0m\u001b[92m m \u001b[0m\u001b[92m m \u001b[0m\u001b[92m m \u001b[0m\u001b[92m m \u001b[0m\u001b[95m f \u001b[0m\u001b[92m m \u001b[0m\u001b[92m m \u001b[0m\u001b[92m m \u001b[0m\u001b[95m f \u001b[0m\u001b[92m m \u001b[0m\u001b[92m m \u001b[0m\u001b[92m m \u001b[0m\u001b[92m m \u001b[0m\u001b[95m f \u001b[0m\u001b[95m f \u001b[0m\u001b[95m f \u001b[0m\u001b[92m m \u001b[0m\u001b[92m m \u001b[0m\u001b[92m m \u001b[0m\u001b[92m m \u001b[0m\u001b[92m m \u001b[0m\u001b[92m m \u001b[0m\u001b[92m m \u001b[0m\u001b[92m m \u001b[0m\u001b[95m f \u001b[0m\u001b[92m m \u001b[0m\u001b[92m m \u001b[0m\u001b[95m f \u001b[0m\u001b[92m m \u001b[0m\u001b[92m m \u001b[0m\u001b[92m m \u001b[0m\u001b[92m m \u001b[0m\u001b[92m m \u001b[0m\u001b[92m m \u001b[0m\u001b[95m f \u001b[0m\u001b[92m m \u001b[0m\u001b[92m m \u001b[0m\u001b[92m m \u001b[0m\u001b[92m m \u001b[0m\u001b[95m f \u001b[0m\u001b[92m m \u001b[0m\u001b[92m m \u001b[0m\u001b[92m m \u001b[0m\u001b[92m m \u001b[0m\u001b[92m m \u001b[0m\u001b[95m f \u001b[0m\u001b[92m m \u001b[0m\u001b[92m m \u001b[0m\u001b[95m f \u001b[0m\u001b[92m m \u001b[0m\u001b[92m m \u001b[0m\u001b[92m m \u001b[0m\u001b[95m f \u001b[0m\u001b[92m m \u001b[0m\u001b[92m m \u001b[0m\u001b[92m m \u001b[0m\u001b[92m m \u001b[0m\u001b[92m m \u001b[0m\u001b[95m f \u001b[0m\u001b[92m m \u001b[0m\u001b[92m m \u001b[0m\u001b[92m m \u001b[0m\u001b[92m m \u001b[0m\u001b[92m m \u001b[0m\u001b[95m f \u001b[0m\u001b[95m f \u001b[0m\u001b[92m m \u001b[0m\u001b[95m f \u001b[0m\u001b[92m m \u001b[0m\u001b[92m m \u001b[0m\u001b[92m m \u001b[0m\u001b[92m m \u001b[0m\u001b[92m m \u001b[0m\u001b[92m m \u001b[0m\u001b[95m f \u001b[0m\u001b[95m f \u001b[0m\u001b[92m m \u001b[0m\u001b[92m m \u001b[0m\u001b[95m f \u001b[0m\u001b[92m m \u001b[0m\u001b[92m m \u001b[0m\u001b[95m f \u001b[0m\u001b[92m m \u001b[0m\u001b[95m f \u001b[0m\u001b[92m m \u001b[0m\u001b[92m m \u001b[0m\u001b[92m m \u001b[0m\u001b[92m m \u001b[0m\u001b[92m m \u001b[0m\u001b[92m m \u001b[0m\u001b[92m m \u001b[0m\u001b[95m f \u001b[0m\u001b[92m m \u001b[0m\u001b[92m m \u001b[0m\u001b[92m m \u001b[0m\u001b[92m m \u001b[0m\u001b[92m m \u001b[0m\u001b[92m m \u001b[0m\u001b[92m m \u001b[0m\u001b[92m m \u001b[0m\u001b[92m m \u001b[0m\u001b[92m m \u001b[0m\u001b[92m m \u001b[0m\u001b[92m m \u001b[0m\u001b[92m m \u001b[0m\u001b[92m m \u001b[0m\u001b[92m m \u001b[0m\u001b[92m m \u001b[0m\u001b[92m m \u001b[0m\u001b[92m m \u001b[0m\u001b[92m m \u001b[0m\u001b[92m m \u001b[0m\u001b[92m m \u001b[0m\u001b[92m m \u001b[0m\u001b[92m m \u001b[0m\u001b[92m m \u001b[0m\u001b[92m m \u001b[0m\u001b[92m m \u001b[0m\u001b[92m m \u001b[0m\u001b[92m m \u001b[0m\u001b[92m m \u001b[0m\u001b[92m m \u001b[0m\u001b[92m m \u001b[0m\u001b[92m m \u001b[0m\u001b[95m f \u001b[0m\u001b[92m m \u001b[0m\u001b[92m m \u001b[0m\u001b[92m m \u001b[0m\u001b[92m m \u001b[0m\u001b[92m m \u001b[0m\u001b[92m m \u001b[0m\u001b[92m m \u001b[0m\u001b[92m m \u001b[0m\u001b[92m m \u001b[0m\u001b[92m m \u001b[0m\u001b[92m m \u001b[0m\u001b[92m m \u001b[0m\u001b[92m m \u001b[0m\u001b[92m m \u001b[0m\u001b[95m f \u001b[0m\u001b[92m m \u001b[0m\u001b[92m m \u001b[0m\u001b[95m f \u001b[0m\u001b[92m m \u001b[0m\u001b[92m m \u001b[0m\u001b[92m m \u001b[0m\u001b[92m m \u001b[0m\u001b[92m m \u001b[0m\u001b[95m f \u001b[0m\u001b[95m f \u001b[0m\u001b[92m m \u001b[0m\u001b[92m m \u001b[0m\u001b[92m m \u001b[0m\u001b[95m f \u001b[0m\u001b[92m m \u001b[0m\u001b[92m m \u001b[0m\u001b[92m m \u001b[0m\u001b[92m m \u001b[0m\u001b[95m f \u001b[0m\u001b[92m m \u001b[0m\u001b[92m m \u001b[0m\u001b[92m m \u001b[0m\u001b[92m m \u001b[0m\u001b[92m m \u001b[0m\u001b[92m m \u001b[0m\u001b[92m m \u001b[0m\u001b[92m m \u001b[0m\u001b[92m m \u001b[0m\u001b[92m m \u001b[0m\u001b[95m f \u001b[0m\u001b[95m f \u001b[0m\u001b[92m m \u001b[0m\u001b[92m m \u001b[0m\u001b[92m m \u001b[0m\u001b[92m m \u001b[0m\u001b[92m m \u001b[0m\u001b[95m f \u001b[0m\u001b[92m m \u001b[0m\u001b[92m m \u001b[0m\u001b[92m m \u001b[0m\u001b[95m f \u001b[0m\u001b[92m m \u001b[0m\u001b[92m m \u001b[0m\u001b[92m m \u001b[0m\u001b[92m m \u001b[0m\u001b[92m m \u001b[0m\u001b[92m m \u001b[0m\u001b[95m f \u001b[0m\u001b[92m m \u001b[0m\u001b[92m m \u001b[0m\u001b[95m f \u001b[0m\u001b[92m m \u001b[0m\u001b[95m f \u001b[0m\u001b[95m f \u001b[0m\u001b[92m m \u001b[0m\u001b[92m m \u001b[0m\u001b[92m m \u001b[0m\u001b[95m f \u001b[0m\u001b[95m f \u001b[0m\u001b[92m m \u001b[0m\u001b[92m m \u001b[0m\u001b[92m m \u001b[0m\u001b[92m m \u001b[0m\u001b[92m m \u001b[0m\u001b[92m m \u001b[0m\u001b[95m f \u001b[0m\u001b[92m m \u001b[0m\u001b[95m f \u001b[0m\u001b[92m m \u001b[0m\u001b[92m m \u001b[0m\u001b[92m m \u001b[0m\u001b[92m m \u001b[0m\u001b[92m m \u001b[0m\u001b[92m m \u001b[0m\u001b[92m m \u001b[0m\u001b[92m m \u001b[0m\u001b[95m f \u001b[0m\u001b[92m m \u001b[0m\u001b[92m m \u001b[0m\u001b[92m m \u001b[0m\u001b[92m m \u001b[0m\u001b[92m m \u001b[0m\u001b[92m m \u001b[0m\u001b[92m m \u001b[0m\u001b[92m m \u001b[0m\u001b[92m m \u001b[0m\u001b[92m m \u001b[0m\u001b[95m f \u001b[0m\u001b[95m f \u001b[0m\u001b[95m f \u001b[0m\u001b[95m f \u001b[0m\u001b[95m f \u001b[0m\u001b[92m m \u001b[0m\u001b[92m m \u001b[0m\u001b[92m m \u001b[0m\u001b[92m m \u001b[0m\u001b[92m m \u001b[0m\u001b[95m f \u001b[0m\u001b[95m f \u001b[0m\u001b[92m m \u001b[0m\u001b[92m m \u001b[0m\u001b[92m m \u001b[0m\u001b[92m m \u001b[0m\u001b[92m m \u001b[0m\u001b[92m m \u001b[0m\u001b[92m m \u001b[0m\u001b[92m m \u001b[0m\u001b[95m f \u001b[0m\u001b[92m m \u001b[0m\u001b[92m m \u001b[0m\u001b[95m f \u001b[0m\u001b[92m m \u001b[0m\u001b[92m m \u001b[0m\u001b[92m m \u001b[0m\u001b[95m f \u001b[0m\u001b[92m m \u001b[0m\u001b[92m m \u001b[0m\u001b[92m m \u001b[0m\u001b[92m m \u001b[0m\u001b[92m m \u001b[0m\u001b[92m m \u001b[0m\u001b[92m m \u001b[0m\u001b[92m m \u001b[0m\n",
      "\n",
      "{'alpha': 0.0001, 'loss': 'log', 'penalty': 'l1'}\n",
      "SVM Cross Validation Scores: [0.67350213 0.69549084 0.66480487 0.67431762 0.664     ]\n",
      "\n",
      "SVM Mean Accuracy: 0.6744\n",
      "\n",
      "First 5 predictions:\n",
      "    test_example_id                                              story  \\\n",
      "0                0  כל קיץ אני והמשפחה נוסעים לארצות הברית לוס אנג...   \n",
      "1                1  הגעתי לשירות המדינה אחרי שנתיים כפעיל בתנועת \"...   \n",
      "2                2  אחת האהבות הגדולות שלי אלו הכלבים שלי ושל אישת...   \n",
      "3                3  רגע הגיוס לצבא היה הרגע הכי משמעותי עבורי, אני...   \n",
      "4                4  אני הגעתי לברזיל ישר מקולומביה וגם אני עשיתי ע...   \n",
      "\n",
      "  predicted_category  \n",
      "0                  m  \n",
      "1                  m  \n",
      "2                  m  \n",
      "3                  m  \n",
      "4                  f  \n",
      "\n",
      "\n",
      "Last 5 predictions:\n",
      "      test_example_id                                              story  \\\n",
      "318              318  בשנה האחרונה הרגשתי די תקוע בעבודה, השגרה הפכה...   \n",
      "319              319  אני ואילן חברים טובים מזה 20 שנה תמיד חלמנו לפ...   \n",
      "320              320  מידי יום שישי אני נוהג לנסוע בתחבורה ציבורית ס...   \n",
      "321              321  לפני מספר חודשים, בשיא התחלואה של הגל השני, עמ...   \n",
      "322              322  היום בו דיווחתי על גניבה של האוטו שלי. בוקר אח...   \n",
      "\n",
      "    predicted_category  \n",
      "318                  m  \n",
      "319                  m  \n",
      "320                  m  \n",
      "321                  m  \n",
      "322                  m  \n",
      "\n",
      "\n",
      "\u001b[92mMales count:\u001b[0m 270\n",
      "\u001b[95mFemales count:\u001b[0m 53\n",
      "\n",
      "y_pred values:\n",
      " \u001b[92m m \u001b[0m\u001b[92m m \u001b[0m\u001b[92m m \u001b[0m\u001b[92m m \u001b[0m\u001b[95m f \u001b[0m\u001b[92m m \u001b[0m\u001b[92m m \u001b[0m\u001b[92m m \u001b[0m\u001b[92m m \u001b[0m\u001b[92m m \u001b[0m\u001b[95m f \u001b[0m\u001b[92m m \u001b[0m\u001b[95m f \u001b[0m\u001b[92m m \u001b[0m\u001b[95m f \u001b[0m\u001b[92m m \u001b[0m\u001b[92m m \u001b[0m\u001b[92m m \u001b[0m\u001b[92m m \u001b[0m\u001b[92m m \u001b[0m\u001b[95m f \u001b[0m\u001b[92m m \u001b[0m\u001b[92m m \u001b[0m\u001b[92m m \u001b[0m\u001b[92m m \u001b[0m\u001b[92m m \u001b[0m\u001b[92m m \u001b[0m\u001b[95m f \u001b[0m\u001b[92m m \u001b[0m\u001b[92m m \u001b[0m\u001b[92m m \u001b[0m\u001b[92m m \u001b[0m\u001b[95m f \u001b[0m\u001b[92m m \u001b[0m\u001b[92m m \u001b[0m\u001b[95m f \u001b[0m\u001b[92m m \u001b[0m\u001b[95m f \u001b[0m\u001b[92m m \u001b[0m\u001b[92m m \u001b[0m\u001b[95m f \u001b[0m\u001b[92m m \u001b[0m\u001b[92m m \u001b[0m\u001b[92m m \u001b[0m\u001b[92m m \u001b[0m\u001b[92m m \u001b[0m\u001b[92m m \u001b[0m\u001b[92m m \u001b[0m\u001b[92m m \u001b[0m\u001b[92m m \u001b[0m\u001b[95m f \u001b[0m\u001b[92m m \u001b[0m\u001b[95m f \u001b[0m\u001b[92m m \u001b[0m\u001b[92m m \u001b[0m\u001b[92m m \u001b[0m\u001b[92m m \u001b[0m\u001b[92m m \u001b[0m\u001b[92m m \u001b[0m\u001b[92m m \u001b[0m\u001b[92m m \u001b[0m\u001b[92m m \u001b[0m\u001b[95m f \u001b[0m\u001b[92m m \u001b[0m\u001b[95m f \u001b[0m\u001b[92m m \u001b[0m\u001b[92m m \u001b[0m\u001b[92m m \u001b[0m\u001b[92m m \u001b[0m\u001b[92m m \u001b[0m\u001b[92m m \u001b[0m\u001b[92m m \u001b[0m\u001b[92m m \u001b[0m\u001b[95m f \u001b[0m\u001b[95m f \u001b[0m\u001b[92m m \u001b[0m\u001b[92m m \u001b[0m\u001b[92m m \u001b[0m\u001b[92m m \u001b[0m\u001b[92m m \u001b[0m\u001b[92m m \u001b[0m\u001b[92m m \u001b[0m\u001b[92m m \u001b[0m\u001b[92m m \u001b[0m\u001b[92m m \u001b[0m\u001b[92m m \u001b[0m\u001b[92m m \u001b[0m\u001b[95m f \u001b[0m\u001b[92m m \u001b[0m\u001b[92m m \u001b[0m\u001b[92m m \u001b[0m\u001b[92m m \u001b[0m\u001b[92m m \u001b[0m\u001b[92m m \u001b[0m\u001b[95m f \u001b[0m\u001b[92m m \u001b[0m\u001b[92m m \u001b[0m\u001b[92m m \u001b[0m\u001b[92m m \u001b[0m\u001b[95m f \u001b[0m\u001b[92m m \u001b[0m\u001b[92m m \u001b[0m\u001b[92m m \u001b[0m\u001b[92m m \u001b[0m\u001b[92m m \u001b[0m\u001b[95m f \u001b[0m\u001b[92m m \u001b[0m\u001b[92m m \u001b[0m\u001b[92m m \u001b[0m\u001b[92m m \u001b[0m\u001b[92m m \u001b[0m\u001b[92m m \u001b[0m\u001b[95m f \u001b[0m\u001b[92m m \u001b[0m\u001b[92m m \u001b[0m\u001b[92m m \u001b[0m\u001b[92m m \u001b[0m\u001b[95m f \u001b[0m\u001b[92m m \u001b[0m\u001b[92m m \u001b[0m\u001b[92m m \u001b[0m\u001b[92m m \u001b[0m\u001b[92m m \u001b[0m\u001b[92m m \u001b[0m\u001b[95m f \u001b[0m\u001b[95m f \u001b[0m\u001b[92m m \u001b[0m\u001b[95m f \u001b[0m\u001b[92m m \u001b[0m\u001b[92m m \u001b[0m\u001b[92m m \u001b[0m\u001b[92m m \u001b[0m\u001b[92m m \u001b[0m\u001b[92m m \u001b[0m\u001b[95m f \u001b[0m\u001b[95m f \u001b[0m\u001b[92m m \u001b[0m\u001b[92m m \u001b[0m\u001b[95m f \u001b[0m\u001b[92m m \u001b[0m\u001b[92m m \u001b[0m\u001b[95m f \u001b[0m\u001b[95m f \u001b[0m\u001b[95m f \u001b[0m\u001b[92m m \u001b[0m\u001b[92m m \u001b[0m\u001b[92m m \u001b[0m\u001b[92m m \u001b[0m\u001b[92m m \u001b[0m\u001b[92m m \u001b[0m\u001b[92m m \u001b[0m\u001b[95m f \u001b[0m\u001b[92m m \u001b[0m\u001b[92m m \u001b[0m\u001b[92m m \u001b[0m\u001b[92m m \u001b[0m\u001b[92m m \u001b[0m\u001b[92m m \u001b[0m\u001b[92m m \u001b[0m\u001b[92m m \u001b[0m\u001b[92m m \u001b[0m\u001b[92m m \u001b[0m\u001b[92m m \u001b[0m\u001b[92m m \u001b[0m\u001b[92m m \u001b[0m\u001b[92m m \u001b[0m\u001b[92m m \u001b[0m\u001b[92m m \u001b[0m\u001b[92m m \u001b[0m\u001b[92m m \u001b[0m\u001b[92m m \u001b[0m\u001b[92m m \u001b[0m\u001b[92m m \u001b[0m\u001b[92m m \u001b[0m\u001b[92m m \u001b[0m\u001b[92m m \u001b[0m\u001b[92m m \u001b[0m\u001b[92m m \u001b[0m\u001b[92m m \u001b[0m\u001b[92m m \u001b[0m\u001b[92m m \u001b[0m\u001b[92m m \u001b[0m\u001b[92m m \u001b[0m\u001b[92m m \u001b[0m\u001b[92m m \u001b[0m\u001b[92m m \u001b[0m\u001b[92m m \u001b[0m\u001b[92m m \u001b[0m\u001b[92m m \u001b[0m\u001b[92m m \u001b[0m\u001b[92m m \u001b[0m\u001b[92m m \u001b[0m\u001b[92m m \u001b[0m\u001b[92m m \u001b[0m\u001b[92m m \u001b[0m\u001b[92m m \u001b[0m\u001b[92m m \u001b[0m\u001b[92m m \u001b[0m\u001b[92m m \u001b[0m\u001b[95m f \u001b[0m\u001b[92m m \u001b[0m\u001b[92m m \u001b[0m\u001b[92m m \u001b[0m\u001b[92m m \u001b[0m\u001b[92m m \u001b[0m\u001b[92m m \u001b[0m\u001b[92m m \u001b[0m\u001b[92m m \u001b[0m\u001b[95m f \u001b[0m\u001b[95m f \u001b[0m\u001b[92m m \u001b[0m\u001b[92m m \u001b[0m\u001b[95m f \u001b[0m\u001b[92m m \u001b[0m\u001b[92m m \u001b[0m\u001b[92m m \u001b[0m\u001b[92m m \u001b[0m\u001b[92m m \u001b[0m\u001b[95m f \u001b[0m\u001b[92m m \u001b[0m\u001b[92m m \u001b[0m\u001b[92m m \u001b[0m\u001b[92m m \u001b[0m\u001b[92m m \u001b[0m\u001b[92m m \u001b[0m\u001b[92m m \u001b[0m\u001b[92m m \u001b[0m\u001b[92m m \u001b[0m\u001b[92m m \u001b[0m\u001b[95m f \u001b[0m\u001b[92m m \u001b[0m\u001b[92m m \u001b[0m\u001b[92m m \u001b[0m\u001b[92m m \u001b[0m\u001b[92m m \u001b[0m\u001b[92m m \u001b[0m\u001b[95m f \u001b[0m\u001b[92m m \u001b[0m\u001b[92m m \u001b[0m\u001b[92m m \u001b[0m\u001b[92m m \u001b[0m\u001b[92m m \u001b[0m\u001b[92m m \u001b[0m\u001b[92m m \u001b[0m\u001b[92m m \u001b[0m\u001b[92m m \u001b[0m\u001b[92m m \u001b[0m\u001b[92m m \u001b[0m\u001b[92m m \u001b[0m\u001b[92m m \u001b[0m\u001b[95m f \u001b[0m\u001b[92m m \u001b[0m\u001b[95m f \u001b[0m\u001b[95m f \u001b[0m\u001b[92m m \u001b[0m\u001b[92m m \u001b[0m\u001b[92m m \u001b[0m\u001b[95m f \u001b[0m\u001b[95m f \u001b[0m\u001b[92m m \u001b[0m\u001b[92m m \u001b[0m\u001b[92m m \u001b[0m\u001b[92m m \u001b[0m\u001b[92m m \u001b[0m\u001b[92m m \u001b[0m\u001b[92m m \u001b[0m\u001b[92m m \u001b[0m\u001b[95m f \u001b[0m\u001b[92m m \u001b[0m\u001b[92m m \u001b[0m\u001b[92m m \u001b[0m\u001b[92m m \u001b[0m\u001b[92m m \u001b[0m\u001b[92m m \u001b[0m\u001b[92m m \u001b[0m\u001b[92m m \u001b[0m\u001b[95m f \u001b[0m\u001b[92m m \u001b[0m\u001b[92m m \u001b[0m\u001b[92m m \u001b[0m\u001b[92m m \u001b[0m\u001b[92m m \u001b[0m\u001b[92m m \u001b[0m\u001b[92m m \u001b[0m\u001b[92m m \u001b[0m\u001b[92m m \u001b[0m\u001b[92m m \u001b[0m\u001b[92m m \u001b[0m\u001b[92m m \u001b[0m\u001b[95m f \u001b[0m\u001b[92m m \u001b[0m\u001b[95m f \u001b[0m\u001b[95m f \u001b[0m\u001b[92m m \u001b[0m\u001b[92m m \u001b[0m\u001b[92m m \u001b[0m\u001b[92m m \u001b[0m\u001b[95m f \u001b[0m\u001b[95m f \u001b[0m\u001b[92m m \u001b[0m\u001b[92m m \u001b[0m\u001b[92m m \u001b[0m\u001b[92m m \u001b[0m\u001b[92m m \u001b[0m\u001b[92m m \u001b[0m\u001b[92m m \u001b[0m\u001b[92m m \u001b[0m\u001b[92m m \u001b[0m\u001b[92m m \u001b[0m\u001b[92m m \u001b[0m\u001b[95m f \u001b[0m\u001b[92m m \u001b[0m\u001b[92m m \u001b[0m\u001b[92m m \u001b[0m\u001b[95m f \u001b[0m\u001b[92m m \u001b[0m\u001b[92m m \u001b[0m\u001b[92m m \u001b[0m\u001b[92m m \u001b[0m\u001b[92m m \u001b[0m\u001b[92m m \u001b[0m\u001b[92m m \u001b[0m\u001b[92m m \u001b[0m\n",
      "\n",
      "The best model is: Perceptron\n",
      "The model f1 score is 0.6774729439740996\n",
      "\n"
     ]
    }
   ],
   "source": [
    "# finding best params using gridsearch(cross validation)\n",
    "\n",
    "# create a list of model names\n",
    "model_names = [\n",
    "    'KNN',\n",
    "     'DT',\n",
    "    'MLP',\n",
    "    'LinearSVC',\n",
    "    'Perceptron',\n",
    "    'SVM'\n",
    "]\n",
    "\n",
    "f1_acc_li = []\n",
    "bestScore = 0\n",
    "bestModel = None\n",
    "\n",
    "# --------------------------------------------------------------------------------- #\n",
    "\n",
    "for model in range(len(model_names)):\n",
    "    clf = train_model(model_names[model], X_train, y_train)\n",
    "    GS_model = grid_search_model(model_names[model], clf, X_train, y_train)\n",
    "    print(GS_model.best_params_)\n",
    "    \n",
    "    model_cv_score = cross_val_score(GS_model.best_estimator_, X_train, y_train, scoring=metrics.make_scorer(f1_score, average='macro'), cv=5)\n",
    "    print(f'{model_names[model]} Cross Validation Scores: {model_cv_score}\\n')\n",
    "    print(f'{model_names[model]} Mean Accuracy: {model_cv_score.mean():.4f}\\n')\n",
    "    \n",
    "    if(model_cv_score.mean() > bestScore):\n",
    "        bestScore = model_cv_score.mean()\n",
    "        bestModel = model_names[model]\n",
    "    \n",
    "    # Prediction\n",
    "    y_pred = clf.predict(X_test)\n",
    "\n",
    "    df_test['predicted_category'] = y_pred\n",
    "    df_test['predicted_category'] = df_test['predicted_category'].replace({0:'f', 1:'m'})\n",
    "    \n",
    "    if (bestModel == model_names[model]):\n",
    "        df_predicted = df_test[['test_example_id', 'predicted_category']]\n",
    "    \n",
    "    print(f\"First 5 predictions:\\n {df_test.head(5)}\\n\")\n",
    "    print()\n",
    "    print(f\"Last 5 predictions:\\n {df_test.tail(5)}\\n\")\n",
    "    print()\n",
    "    print(f\"\\033[92mMales:\\033[0m {np.count_nonzero(y_pred)}\")\n",
    "    print(f\"\\033[95mFemales:\\033[0m {y_pred.shape[0] - np.count_nonzero(y_pred)}\")\n",
    "    print()\n",
    "    print(f\"y_pred values:\\n {yPredValues(y_pred)}\")\n",
    "    print()\n",
    "\n",
    "print(f\"The best model is: {bestModel}\")\n",
    "print(f\"The model f1 score is {bestScore}\\n\")"
   ]
  },
  {
   "cell_type": "markdown",
   "metadata": {},
   "source": [
    "### Show df_predicted of the best model"
   ]
  },
  {
   "cell_type": "code",
   "execution_count": 20,
   "metadata": {},
   "outputs": [
    {
     "data": {
      "text/html": [
       "<div>\n",
       "<style scoped>\n",
       "    .dataframe tbody tr th:only-of-type {\n",
       "        vertical-align: middle;\n",
       "    }\n",
       "\n",
       "    .dataframe tbody tr th {\n",
       "        vertical-align: top;\n",
       "    }\n",
       "\n",
       "    .dataframe thead th {\n",
       "        text-align: right;\n",
       "    }\n",
       "</style>\n",
       "<table border=\"1\" class=\"dataframe\">\n",
       "  <thead>\n",
       "    <tr style=\"text-align: right;\">\n",
       "      <th></th>\n",
       "      <th>test_example_id</th>\n",
       "      <th>predicted_category</th>\n",
       "    </tr>\n",
       "  </thead>\n",
       "  <tbody>\n",
       "    <tr>\n",
       "      <th>0</th>\n",
       "      <td>0</td>\n",
       "      <td>m</td>\n",
       "    </tr>\n",
       "    <tr>\n",
       "      <th>1</th>\n",
       "      <td>1</td>\n",
       "      <td>m</td>\n",
       "    </tr>\n",
       "    <tr>\n",
       "      <th>2</th>\n",
       "      <td>2</td>\n",
       "      <td>m</td>\n",
       "    </tr>\n",
       "    <tr>\n",
       "      <th>3</th>\n",
       "      <td>3</td>\n",
       "      <td>m</td>\n",
       "    </tr>\n",
       "    <tr>\n",
       "      <th>4</th>\n",
       "      <td>4</td>\n",
       "      <td>f</td>\n",
       "    </tr>\n",
       "    <tr>\n",
       "      <th>5</th>\n",
       "      <td>5</td>\n",
       "      <td>m</td>\n",
       "    </tr>\n",
       "    <tr>\n",
       "      <th>6</th>\n",
       "      <td>6</td>\n",
       "      <td>m</td>\n",
       "    </tr>\n",
       "    <tr>\n",
       "      <th>7</th>\n",
       "      <td>7</td>\n",
       "      <td>m</td>\n",
       "    </tr>\n",
       "    <tr>\n",
       "      <th>8</th>\n",
       "      <td>8</td>\n",
       "      <td>m</td>\n",
       "    </tr>\n",
       "    <tr>\n",
       "      <th>9</th>\n",
       "      <td>9</td>\n",
       "      <td>m</td>\n",
       "    </tr>\n",
       "  </tbody>\n",
       "</table>\n",
       "</div>"
      ],
      "text/plain": [
       "   test_example_id predicted_category\n",
       "0                0                  m\n",
       "1                1                  m\n",
       "2                2                  m\n",
       "3                3                  m\n",
       "4                4                  f\n",
       "5                5                  m\n",
       "6                6                  m\n",
       "7                7                  m\n",
       "8                8                  m\n",
       "9                9                  m"
      ]
     },
     "execution_count": 20,
     "metadata": {},
     "output_type": "execute_result"
    }
   ],
   "source": [
    "df_predicted.head(10)"
   ]
  },
  {
   "cell_type": "markdown",
   "metadata": {},
   "source": [
    "### Save output to csv (optional)\n",
    "After you're done save your output to the 'classification_results.csv' csv file.<br/>\n",
    "We assume that the dataframe with your results contain the following columns:\n",
    "* column 1 (left column): 'test_example_id'  - the same id associated to each of the test stories to be predicted.\n",
    "* column 2 (right column): 'predicted_category' - the predicted gender value for each of the associated story. \n",
    "\n",
    "Assuming your predicted values are in the `df_predicted` dataframe, you should save you're results as following:"
   ]
  },
  {
   "cell_type": "code",
   "execution_count": 21,
   "metadata": {},
   "outputs": [],
   "source": [
    "#df_predicted.to_csv('classification_results.csv',index=False)"
   ]
  }
 ],
 "metadata": {
  "celltoolbar": "Create Assignment",
  "kernelspec": {
   "display_name": "Python 3",
   "language": "python",
   "name": "python3"
  },
  "language_info": {
   "codemirror_mode": {
    "name": "ipython",
    "version": 3
   },
   "file_extension": ".py",
   "mimetype": "text/x-python",
   "name": "python",
   "nbconvert_exporter": "python",
   "pygments_lexer": "ipython3",
   "version": "3.8.8"
  }
 },
 "nbformat": 4,
 "nbformat_minor": 4
}
